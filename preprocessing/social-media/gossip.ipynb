{
 "cells": [
  {
   "cell_type": "code",
   "execution_count": 8,
   "metadata": {},
   "outputs": [],
   "source": [
    "# ! pip install datasets\n",
    "# ! pip install pandas\n",
    "# ! python.exe -m pip install --upgrade pip\n",
    "# ! pip install matplotlib"
   ]
  },
  {
   "cell_type": "code",
   "execution_count": 9,
   "metadata": {},
   "outputs": [],
   "source": [
    "from datasets import load_dataset\n",
    "import pandas as pd\n",
    "def pd_set_see_full_dataframe():\n",
    "    # Permanently changes the pandas settings\n",
    "    pd.set_option('display.max_rows', None)\n",
    "    pd.set_option('display.max_columns', None)\n",
    "    pd.set_option('display.width', None)\n",
    "    # pd.set_option('display.max_colwidth', -1)\n",
    "\n",
    "def pd_reset_options():\n",
    "    # Resets the options\n",
    "    pd.reset_option('all')\n",
    "\n",
    "def display_whole_df(df):\n",
    "    pd_set_see_full_dataframe()\n",
    "    display(df)\n",
    "    pd_reset_options()"
   ]
  },
  {
   "cell_type": "markdown",
   "metadata": {},
   "source": [
    "# Gossipcorp"
   ]
  },
  {
   "cell_type": "code",
   "execution_count": 10,
   "metadata": {},
   "outputs": [],
   "source": [
    "df_gossip_true = pd.read_csv('../../data/gossipcop_fake.csv')\n",
    "df_gossip_false = pd.read_csv('../../data/gossipcop_real.csv')"
   ]
  },
  {
   "cell_type": "code",
   "execution_count": 11,
   "metadata": {},
   "outputs": [],
   "source": [
    "df_gossip_true['label'] = 0\n",
    "df_gossip_false['label'] = 1\n"
   ]
  },
  {
   "cell_type": "code",
   "execution_count": 12,
   "metadata": {},
   "outputs": [
    {
     "data": {
      "text/html": [
       "<div>\n",
       "<style scoped>\n",
       "    .dataframe tbody tr th:only-of-type {\n",
       "        vertical-align: middle;\n",
       "    }\n",
       "\n",
       "    .dataframe tbody tr th {\n",
       "        vertical-align: top;\n",
       "    }\n",
       "\n",
       "    .dataframe thead th {\n",
       "        text-align: right;\n",
       "    }\n",
       "</style>\n",
       "<table border=\"1\" class=\"dataframe\">\n",
       "  <thead>\n",
       "    <tr style=\"text-align: right;\">\n",
       "      <th></th>\n",
       "      <th>id</th>\n",
       "      <th>news_url</th>\n",
       "      <th>title</th>\n",
       "      <th>tweet_ids</th>\n",
       "      <th>label</th>\n",
       "    </tr>\n",
       "  </thead>\n",
       "  <tbody>\n",
       "    <tr>\n",
       "      <th>0</th>\n",
       "      <td>gossipcop-2493749932</td>\n",
       "      <td>www.dailymail.co.uk/tvshowbiz/article-5874213/...</td>\n",
       "      <td>Did Miley Cyrus and Liam Hemsworth secretly ge...</td>\n",
       "      <td>284329075902926848\\t284332744559968256\\t284335...</td>\n",
       "      <td>0</td>\n",
       "    </tr>\n",
       "    <tr>\n",
       "      <th>1</th>\n",
       "      <td>gossipcop-4580247171</td>\n",
       "      <td>hollywoodlife.com/2018/05/05/paris-jackson-car...</td>\n",
       "      <td>Paris Jackson &amp; Cara Delevingne Enjoy Night Ou...</td>\n",
       "      <td>992895508267130880\\t992897935418503169\\t992899...</td>\n",
       "      <td>0</td>\n",
       "    </tr>\n",
       "    <tr>\n",
       "      <th>2</th>\n",
       "      <td>gossipcop-941805037</td>\n",
       "      <td>variety.com/2017/biz/news/tax-march-donald-tru...</td>\n",
       "      <td>Celebrities Join Tax March in Protest of Donal...</td>\n",
       "      <td>853359353532829696\\t853359576543920128\\t853359...</td>\n",
       "      <td>0</td>\n",
       "    </tr>\n",
       "    <tr>\n",
       "      <th>3</th>\n",
       "      <td>gossipcop-2547891536</td>\n",
       "      <td>www.dailymail.co.uk/femail/article-3499192/Do-...</td>\n",
       "      <td>Cindy Crawford's daughter Kaia Gerber wears a ...</td>\n",
       "      <td>988821905196158981\\t988824206556172288\\t988825...</td>\n",
       "      <td>0</td>\n",
       "    </tr>\n",
       "    <tr>\n",
       "      <th>4</th>\n",
       "      <td>gossipcop-5476631226</td>\n",
       "      <td>variety.com/2018/film/news/list-2018-oscar-nom...</td>\n",
       "      <td>Full List of 2018 Oscar Nominations – Variety</td>\n",
       "      <td>955792793632432131\\t955795063925301249\\t955798...</td>\n",
       "      <td>0</td>\n",
       "    </tr>\n",
       "  </tbody>\n",
       "</table>\n",
       "</div>"
      ],
      "text/plain": [
       "                     id                                           news_url  \\\n",
       "0  gossipcop-2493749932  www.dailymail.co.uk/tvshowbiz/article-5874213/...   \n",
       "1  gossipcop-4580247171  hollywoodlife.com/2018/05/05/paris-jackson-car...   \n",
       "2   gossipcop-941805037  variety.com/2017/biz/news/tax-march-donald-tru...   \n",
       "3  gossipcop-2547891536  www.dailymail.co.uk/femail/article-3499192/Do-...   \n",
       "4  gossipcop-5476631226  variety.com/2018/film/news/list-2018-oscar-nom...   \n",
       "\n",
       "                                               title  \\\n",
       "0  Did Miley Cyrus and Liam Hemsworth secretly ge...   \n",
       "1  Paris Jackson & Cara Delevingne Enjoy Night Ou...   \n",
       "2  Celebrities Join Tax March in Protest of Donal...   \n",
       "3  Cindy Crawford's daughter Kaia Gerber wears a ...   \n",
       "4      Full List of 2018 Oscar Nominations – Variety   \n",
       "\n",
       "                                           tweet_ids  label  \n",
       "0  284329075902926848\\t284332744559968256\\t284335...      0  \n",
       "1  992895508267130880\\t992897935418503169\\t992899...      0  \n",
       "2  853359353532829696\\t853359576543920128\\t853359...      0  \n",
       "3  988821905196158981\\t988824206556172288\\t988825...      0  \n",
       "4  955792793632432131\\t955795063925301249\\t955798...      0  "
      ]
     },
     "execution_count": 12,
     "metadata": {},
     "output_type": "execute_result"
    }
   ],
   "source": [
    "df_gossip = pd.concat([df_gossip_true, df_gossip_false], axis=0, ignore_index=True)\n",
    "df_gossip.head()"
   ]
  },
  {
   "cell_type": "code",
   "execution_count": 13,
   "metadata": {},
   "outputs": [
    {
     "data": {
      "text/plain": [
       "label\n",
       "1    16817\n",
       "0     5323\n",
       "Name: count, dtype: int64"
      ]
     },
     "execution_count": 13,
     "metadata": {},
     "output_type": "execute_result"
    }
   ],
   "source": [
    "df_gossip['label'].value_counts()   "
   ]
  },
  {
   "cell_type": "code",
   "execution_count": 17,
   "metadata": {},
   "outputs": [],
   "source": [
    "df_gossip.rename(columns={'title':'text', 'news_url':'link'}, inplace=True)"
   ]
  },
  {
   "cell_type": "code",
   "execution_count": 19,
   "metadata": {},
   "outputs": [
    {
     "data": {
      "text/html": [
       "<div>\n",
       "<style scoped>\n",
       "    .dataframe tbody tr th:only-of-type {\n",
       "        vertical-align: middle;\n",
       "    }\n",
       "\n",
       "    .dataframe tbody tr th {\n",
       "        vertical-align: top;\n",
       "    }\n",
       "\n",
       "    .dataframe thead th {\n",
       "        text-align: right;\n",
       "    }\n",
       "</style>\n",
       "<table border=\"1\" class=\"dataframe\">\n",
       "  <thead>\n",
       "    <tr style=\"text-align: right;\">\n",
       "      <th></th>\n",
       "      <th>text</th>\n",
       "      <th>label</th>\n",
       "      <th>metadata</th>\n",
       "    </tr>\n",
       "  </thead>\n",
       "  <tbody>\n",
       "    <tr>\n",
       "      <th>0</th>\n",
       "      <td>Did Miley Cyrus and Liam Hemsworth secretly ge...</td>\n",
       "      <td>0</td>\n",
       "      <td>{'text': 'Did Miley Cyrus and Liam Hemsworth s...</td>\n",
       "    </tr>\n",
       "    <tr>\n",
       "      <th>1</th>\n",
       "      <td>Paris Jackson &amp; Cara Delevingne Enjoy Night Ou...</td>\n",
       "      <td>0</td>\n",
       "      <td>{'text': 'Paris Jackson &amp; Cara Delevingne Enjo...</td>\n",
       "    </tr>\n",
       "    <tr>\n",
       "      <th>2</th>\n",
       "      <td>Celebrities Join Tax March in Protest of Donal...</td>\n",
       "      <td>0</td>\n",
       "      <td>{'text': 'Celebrities Join Tax March in Protes...</td>\n",
       "    </tr>\n",
       "    <tr>\n",
       "      <th>3</th>\n",
       "      <td>Cindy Crawford's daughter Kaia Gerber wears a ...</td>\n",
       "      <td>0</td>\n",
       "      <td>{'text': 'Cindy Crawford's daughter Kaia Gerbe...</td>\n",
       "    </tr>\n",
       "    <tr>\n",
       "      <th>4</th>\n",
       "      <td>Full List of 2018 Oscar Nominations – Variety</td>\n",
       "      <td>0</td>\n",
       "      <td>{'text': 'Full List of 2018 Oscar Nominations ...</td>\n",
       "    </tr>\n",
       "  </tbody>\n",
       "</table>\n",
       "</div>"
      ],
      "text/plain": [
       "                                                text  label  \\\n",
       "0  Did Miley Cyrus and Liam Hemsworth secretly ge...      0   \n",
       "1  Paris Jackson & Cara Delevingne Enjoy Night Ou...      0   \n",
       "2  Celebrities Join Tax March in Protest of Donal...      0   \n",
       "3  Cindy Crawford's daughter Kaia Gerber wears a ...      0   \n",
       "4      Full List of 2018 Oscar Nominations – Variety      0   \n",
       "\n",
       "                                            metadata  \n",
       "0  {'text': 'Did Miley Cyrus and Liam Hemsworth s...  \n",
       "1  {'text': 'Paris Jackson & Cara Delevingne Enjo...  \n",
       "2  {'text': 'Celebrities Join Tax March in Protes...  \n",
       "3  {'text': 'Cindy Crawford's daughter Kaia Gerbe...  \n",
       "4  {'text': 'Full List of 2018 Oscar Nominations ...  "
      ]
     },
     "execution_count": 19,
     "metadata": {},
     "output_type": "execute_result"
    }
   ],
   "source": [
    "df_gossip = df_gossip[['text', 'label']].assign(metadata=df_gossip.iloc[:,2:].agg(dict,1))\n",
    "df_gossip.head()"
   ]
  },
  {
   "cell_type": "code",
   "execution_count": null,
   "metadata": {},
   "outputs": [],
   "source": [
    "df_gossip.to_feather('../../data/social-media/gossipcop.feather')"
   ]
  }
 ],
 "metadata": {
  "kernelspec": {
   "display_name": "Python 3",
   "language": "python",
   "name": "python3"
  },
  "language_info": {
   "codemirror_mode": {
    "name": "ipython",
    "version": 3
   },
   "file_extension": ".py",
   "mimetype": "text/x-python",
   "name": "python",
   "nbconvert_exporter": "python",
   "pygments_lexer": "ipython3",
   "version": "3.11.4"
  }
 },
 "nbformat": 4,
 "nbformat_minor": 2
}
