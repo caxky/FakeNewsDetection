{
 "cells": [
  {
   "cell_type": "markdown",
   "metadata": {},
   "source": [
    "# Setup\n"
   ]
  },
  {
   "cell_type": "code",
   "execution_count": 19,
   "metadata": {},
   "outputs": [],
   "source": [
    "# ! pip install datasets\n",
    "# ! pip install pandas\n",
    "# ! python.exe -m pip install --upgrade pip\n",
    "# ! pip install matplotlib"
   ]
  },
  {
   "cell_type": "code",
   "execution_count": 20,
   "metadata": {},
   "outputs": [],
   "source": [
    "from datasets import load_dataset\n",
    "import pandas as pd\n",
    "\n",
    "dataset = load_dataset(\"climate_fever\")"
   ]
  },
  {
   "cell_type": "code",
   "execution_count": 21,
   "metadata": {},
   "outputs": [],
   "source": [
    "def pd_set_see_full_dataframe():\n",
    "    # Permanently changes the pandas settings\n",
    "    pd.set_option('display.max_rows', None)\n",
    "    pd.set_option('display.max_columns', None)\n",
    "    pd.set_option('display.width', None)\n",
    "    # pd.set_option('display.max_colwidth', -1)\n",
    "\n",
    "def pd_reset_options():\n",
    "    # Resets the options\n",
    "    pd.reset_option('all')\n",
    "\n",
    "def display_whole_df(df):\n",
    "    pd_set_see_full_dataframe()\n",
    "    display(df)\n",
    "    pd_reset_options()"
   ]
  },
  {
   "cell_type": "markdown",
   "metadata": {},
   "source": [
    "# Climate Dataset \n",
    "\n",
    "Label \n",
    "- 0: \"supports\", \n",
    "- 1: \"refutes\", \n",
    "- 2: \"not enough info\" \n",
    "- 3: \"disputed\".\n"
   ]
  },
  {
   "cell_type": "code",
   "execution_count": 22,
   "metadata": {},
   "outputs": [],
   "source": [
    "df_climate_dataset = pd.DataFrame()\n",
    "\n",
    "for x in dataset.keys():\n",
    "    df_climate_dataset = pd.concat([df_climate_dataset, dataset[x].to_pandas()], axis=0, ignore_index=True)"
   ]
  },
  {
   "cell_type": "code",
   "execution_count": null,
   "metadata": {},
   "outputs": [],
   "source": [
    "\n"
   ]
  },
  {
   "cell_type": "markdown",
   "metadata": {},
   "source": [
    "Rename/Reorganizing Labels \n",
    "\n"
   ]
  },
  {
   "cell_type": "code",
   "execution_count": 23,
   "metadata": {},
   "outputs": [
    {
     "data": {
      "text/html": [
       "<div>\n",
       "<style scoped>\n",
       "    .dataframe tbody tr th:only-of-type {\n",
       "        vertical-align: middle;\n",
       "    }\n",
       "\n",
       "    .dataframe tbody tr th {\n",
       "        vertical-align: top;\n",
       "    }\n",
       "\n",
       "    .dataframe thead th {\n",
       "        text-align: right;\n",
       "    }\n",
       "</style>\n",
       "<table border=\"1\" class=\"dataframe\">\n",
       "  <thead>\n",
       "    <tr style=\"text-align: right;\">\n",
       "      <th></th>\n",
       "      <th>claim_id</th>\n",
       "      <th>text</th>\n",
       "      <th>label</th>\n",
       "      <th>metadata</th>\n",
       "    </tr>\n",
       "  </thead>\n",
       "  <tbody>\n",
       "    <tr>\n",
       "      <th>0</th>\n",
       "      <td>0</td>\n",
       "      <td>Global warming is driving polar bears toward e...</td>\n",
       "      <td>0</td>\n",
       "      <td>[{'evidence_id': 'Extinction risk from global ...</td>\n",
       "    </tr>\n",
       "    <tr>\n",
       "      <th>1</th>\n",
       "      <td>5</td>\n",
       "      <td>The sun has gone into ‘lockdown’ which could c...</td>\n",
       "      <td>0</td>\n",
       "      <td>[{'evidence_id': 'Famine:386', 'evidence_label...</td>\n",
       "    </tr>\n",
       "    <tr>\n",
       "      <th>2</th>\n",
       "      <td>6</td>\n",
       "      <td>The polar bear population has been growing.</td>\n",
       "      <td>1</td>\n",
       "      <td>[{'evidence_id': 'Polar bear:1332', 'evidence_...</td>\n",
       "    </tr>\n",
       "    <tr>\n",
       "      <th>3</th>\n",
       "      <td>9</td>\n",
       "      <td>Ironic' study finds more CO2 has slightly cool...</td>\n",
       "      <td>1</td>\n",
       "      <td>[{'evidence_id': 'Atmosphere of Mars:131', 'ev...</td>\n",
       "    </tr>\n",
       "    <tr>\n",
       "      <th>4</th>\n",
       "      <td>10</td>\n",
       "      <td>Human additions of CO2 are in the margin of er...</td>\n",
       "      <td>1</td>\n",
       "      <td>[{'evidence_id': 'Carbon dioxide in Earth's at...</td>\n",
       "    </tr>\n",
       "  </tbody>\n",
       "</table>\n",
       "</div>"
      ],
      "text/plain": [
       "  claim_id                                               text  label  \\\n",
       "0        0  Global warming is driving polar bears toward e...      0   \n",
       "1        5  The sun has gone into ‘lockdown’ which could c...      0   \n",
       "2        6        The polar bear population has been growing.      1   \n",
       "3        9  Ironic' study finds more CO2 has slightly cool...      1   \n",
       "4       10  Human additions of CO2 are in the margin of er...      1   \n",
       "\n",
       "                                            metadata  \n",
       "0  [{'evidence_id': 'Extinction risk from global ...  \n",
       "1  [{'evidence_id': 'Famine:386', 'evidence_label...  \n",
       "2  [{'evidence_id': 'Polar bear:1332', 'evidence_...  \n",
       "3  [{'evidence_id': 'Atmosphere of Mars:131', 'ev...  \n",
       "4  [{'evidence_id': 'Carbon dioxide in Earth's at...  "
      ]
     },
     "execution_count": 23,
     "metadata": {},
     "output_type": "execute_result"
    }
   ],
   "source": [
    "# display_whole_df(df_climate_dataset)\n",
    "df_climate_dataset = df_climate_dataset.rename(columns={'claim_label': 'label', 'claim': 'text', 'evidences':'metadata'})\n",
    "df_climate_dataset.head()\n"
   ]
  },
  {
   "cell_type": "code",
   "execution_count": 24,
   "metadata": {},
   "outputs": [
    {
     "data": {
      "text/html": [
       "<div>\n",
       "<style scoped>\n",
       "    .dataframe tbody tr th:only-of-type {\n",
       "        vertical-align: middle;\n",
       "    }\n",
       "\n",
       "    .dataframe tbody tr th {\n",
       "        vertical-align: top;\n",
       "    }\n",
       "\n",
       "    .dataframe thead th {\n",
       "        text-align: right;\n",
       "    }\n",
       "</style>\n",
       "<table border=\"1\" class=\"dataframe\">\n",
       "  <thead>\n",
       "    <tr style=\"text-align: right;\">\n",
       "      <th></th>\n",
       "      <th>text</th>\n",
       "      <th>label</th>\n",
       "      <th>metadata</th>\n",
       "    </tr>\n",
       "  </thead>\n",
       "  <tbody>\n",
       "    <tr>\n",
       "      <th>0</th>\n",
       "      <td>Global warming is driving polar bears toward e...</td>\n",
       "      <td>0</td>\n",
       "      <td>[{'evidence_id': 'Extinction risk from global ...</td>\n",
       "    </tr>\n",
       "    <tr>\n",
       "      <th>1</th>\n",
       "      <td>The sun has gone into ‘lockdown’ which could c...</td>\n",
       "      <td>0</td>\n",
       "      <td>[{'evidence_id': 'Famine:386', 'evidence_label...</td>\n",
       "    </tr>\n",
       "    <tr>\n",
       "      <th>2</th>\n",
       "      <td>The polar bear population has been growing.</td>\n",
       "      <td>1</td>\n",
       "      <td>[{'evidence_id': 'Polar bear:1332', 'evidence_...</td>\n",
       "    </tr>\n",
       "    <tr>\n",
       "      <th>3</th>\n",
       "      <td>Ironic' study finds more CO2 has slightly cool...</td>\n",
       "      <td>1</td>\n",
       "      <td>[{'evidence_id': 'Atmosphere of Mars:131', 'ev...</td>\n",
       "    </tr>\n",
       "    <tr>\n",
       "      <th>4</th>\n",
       "      <td>Human additions of CO2 are in the margin of er...</td>\n",
       "      <td>1</td>\n",
       "      <td>[{'evidence_id': 'Carbon dioxide in Earth's at...</td>\n",
       "    </tr>\n",
       "  </tbody>\n",
       "</table>\n",
       "</div>"
      ],
      "text/plain": [
       "                                                text  label  \\\n",
       "0  Global warming is driving polar bears toward e...      0   \n",
       "1  The sun has gone into ‘lockdown’ which could c...      0   \n",
       "2        The polar bear population has been growing.      1   \n",
       "3  Ironic' study finds more CO2 has slightly cool...      1   \n",
       "4  Human additions of CO2 are in the margin of er...      1   \n",
       "\n",
       "                                            metadata  \n",
       "0  [{'evidence_id': 'Extinction risk from global ...  \n",
       "1  [{'evidence_id': 'Famine:386', 'evidence_label...  \n",
       "2  [{'evidence_id': 'Polar bear:1332', 'evidence_...  \n",
       "3  [{'evidence_id': 'Atmosphere of Mars:131', 'ev...  \n",
       "4  [{'evidence_id': 'Carbon dioxide in Earth's at...  "
      ]
     },
     "execution_count": 24,
     "metadata": {},
     "output_type": "execute_result"
    }
   ],
   "source": [
    "df_climate_dataset = df_climate_dataset[['text', 'label', 'metadata']]\n",
    "df_climate_dataset.head()\n",
    "\n"
   ]
  },
  {
   "cell_type": "markdown",
   "metadata": {},
   "source": [
    "Binning the label values"
   ]
  },
  {
   "cell_type": "code",
   "execution_count": 25,
   "metadata": {},
   "outputs": [
    {
     "data": {
      "text/plain": [
       "label\n",
       "0    654\n",
       "2    474\n",
       "1    253\n",
       "3    154\n",
       "Name: count, dtype: int64"
      ]
     },
     "execution_count": 25,
     "metadata": {},
     "output_type": "execute_result"
    }
   ],
   "source": [
    "df_climate_dataset['label'].value_counts()\n"
   ]
  },
  {
   "cell_type": "code",
   "execution_count": null,
   "metadata": {},
   "outputs": [],
   "source": []
  },
  {
   "cell_type": "code",
   "execution_count": 26,
   "metadata": {},
   "outputs": [],
   "source": [
    "df_climate_dataset_true = df_climate_dataset.loc[df_climate_dataset['label'] == 0]\n",
    "df_climate_dataset_false = df_climate_dataset.loc[df_climate_dataset['label'] == 1]"
   ]
  },
  {
   "cell_type": "code",
   "execution_count": 27,
   "metadata": {},
   "outputs": [
    {
     "data": {
      "text/plain": [
       "label\n",
       "0    654\n",
       "Name: count, dtype: int64"
      ]
     },
     "execution_count": 27,
     "metadata": {},
     "output_type": "execute_result"
    }
   ],
   "source": [
    "df_climate_dataset_true['label'].value_counts()"
   ]
  },
  {
   "cell_type": "code",
   "execution_count": 28,
   "metadata": {},
   "outputs": [
    {
     "data": {
      "text/plain": [
       "label\n",
       "1    253\n",
       "Name: count, dtype: int64"
      ]
     },
     "execution_count": 28,
     "metadata": {},
     "output_type": "execute_result"
    }
   ],
   "source": [
    "df_climate_dataset_false['label'].value_counts()"
   ]
  },
  {
   "cell_type": "code",
   "execution_count": 30,
   "metadata": {},
   "outputs": [],
   "source": [
    "df_climate_dataset = pd.concat([df_climate_dataset_true, df_climate_dataset_false], ignore_index=True)"
   ]
  },
  {
   "cell_type": "code",
   "execution_count": 31,
   "metadata": {},
   "outputs": [
    {
     "data": {
      "text/plain": [
       "label\n",
       "0    654\n",
       "1    253\n",
       "Name: count, dtype: int64"
      ]
     },
     "execution_count": 31,
     "metadata": {},
     "output_type": "execute_result"
    }
   ],
   "source": [
    "df_climate_dataset['label'].value_counts()\n"
   ]
  },
  {
   "cell_type": "code",
   "execution_count": 35,
   "metadata": {},
   "outputs": [],
   "source": [
    "\n",
    "df_climate_dataset.to_feather('../data/science/climate_dataset.feather')"
   ]
  },
  {
   "cell_type": "code",
   "execution_count": null,
   "metadata": {},
   "outputs": [],
   "source": []
  }
 ],
 "metadata": {
  "kernelspec": {
   "display_name": "Python 3",
   "language": "python",
   "name": "python3"
  },
  "language_info": {
   "codemirror_mode": {
    "name": "ipython",
    "version": 3
   },
   "file_extension": ".py",
   "mimetype": "text/x-python",
   "name": "python",
   "nbconvert_exporter": "python",
   "pygments_lexer": "ipython3",
   "version": "3.11.4"
  }
 },
 "nbformat": 4,
 "nbformat_minor": 2
}
