{
 "cells": [
  {
   "cell_type": "code",
   "execution_count": 1,
   "id": "761edb92",
   "metadata": {
    "execution": {
     "iopub.execute_input": "2023-12-13T06:37:46.847456Z",
     "iopub.status.busy": "2023-12-13T06:37:46.846455Z",
     "iopub.status.idle": "2023-12-13T06:37:52.346402Z",
     "shell.execute_reply": "2023-12-13T06:37:52.346402Z"
    },
    "papermill": {
     "duration": 5.505461,
     "end_time": "2023-12-13T06:37:52.348407",
     "exception": false,
     "start_time": "2023-12-13T06:37:46.842946",
     "status": "completed"
    },
    "tags": []
   },
   "outputs": [
    {
     "name": "stdout",
     "output_type": "stream",
     "text": [
      "Requirement already satisfied: numpy in c:\\users\\user\\anaconda3\\lib\\site-packages (1.26.2)\n",
      "Requirement already satisfied: transformers in c:\\users\\user\\anaconda3\\lib\\site-packages (4.32.1)\n",
      "Requirement already satisfied: pandas in c:\\users\\user\\anaconda3\\lib\\site-packages (2.1.4)\n",
      "Requirement already satisfied: torch in c:\\users\\user\\anaconda3\\lib\\site-packages (2.1.0)\n",
      "Requirement already satisfied: scikit-learn in c:\\users\\user\\anaconda3\\lib\\site-packages (1.2.2)\n",
      "Requirement already satisfied: pyarrow in c:\\users\\user\\anaconda3\\lib\\site-packages (11.0.0)\n",
      "Requirement already satisfied: accelerate in c:\\users\\user\\anaconda3\\lib\\site-packages (0.25.0)\n",
      "Requirement already satisfied: ipywidgets in c:\\users\\user\\anaconda3\\lib\\site-packages (8.0.4)\n",
      "Requirement already satisfied: tqdm in c:\\users\\user\\anaconda3\\lib\\site-packages (4.65.0)\n",
      "Requirement already satisfied: datetime in c:\\users\\user\\anaconda3\\lib\\site-packages (5.3)\n",
      "Requirement already satisfied: imblearn in c:\\users\\user\\anaconda3\\lib\\site-packages (0.0)\n",
      "Requirement already satisfied: sentencepiece in c:\\users\\user\\anaconda3\\lib\\site-packages (0.1.99)\n",
      "Requirement already satisfied: papermill in c:\\users\\user\\anaconda3\\lib\\site-packages (2.5.0)\n",
      "Requirement already satisfied: filelock in c:\\users\\user\\anaconda3\\lib\\site-packages (from transformers) (3.13.1)\n",
      "Requirement already satisfied: huggingface-hub<1.0,>=0.15.1 in c:\\users\\user\\anaconda3\\lib\\site-packages (from transformers) (0.17.3)\n",
      "Requirement already satisfied: packaging>=20.0 in c:\\users\\user\\appdata\\roaming\\python\\python311\\site-packages (from transformers) (23.2)\n",
      "Requirement already satisfied: pyyaml>=5.1 in c:\\users\\user\\anaconda3\\lib\\site-packages (from transformers) (6.0.1)\n",
      "Requirement already satisfied: regex!=2019.12.17 in c:\\users\\user\\anaconda3\\lib\\site-packages (from transformers) (2023.10.3)\n",
      "Requirement already satisfied: requests in c:\\users\\user\\anaconda3\\lib\\site-packages (from transformers) (2.31.0)\n",
      "Requirement already satisfied: tokenizers!=0.11.3,<0.14,>=0.11.1 in c:\\users\\user\\anaconda3\\lib\\site-packages (from transformers) (0.13.3)\n",
      "Requirement already satisfied: safetensors>=0.3.1 in c:\\users\\user\\anaconda3\\lib\\site-packages (from transformers) (0.4.0)\n",
      "Requirement already satisfied: python-dateutil>=2.8.2 in c:\\users\\user\\appdata\\roaming\\python\\python311\\site-packages (from pandas) (2.8.2)\n",
      "Requirement already satisfied: pytz>=2020.1 in c:\\users\\user\\anaconda3\\lib\\site-packages (from pandas) (2023.3.post1)\n",
      "Requirement already satisfied: tzdata>=2022.1 in c:\\users\\user\\anaconda3\\lib\\site-packages (from pandas) (2023.3)\n",
      "Requirement already satisfied: typing-extensions in c:\\users\\user\\anaconda3\\lib\\site-packages (from torch) (4.7.1)\n",
      "Requirement already satisfied: sympy in c:\\users\\user\\anaconda3\\lib\\site-packages (from torch) (1.12)\n",
      "Requirement already satisfied: networkx in c:\\users\\user\\anaconda3\\lib\\site-packages (from torch) (3.1)\n",
      "Requirement already satisfied: jinja2 in c:\\users\\user\\anaconda3\\lib\\site-packages (from torch) (3.1.2)\n",
      "Requirement already satisfied: fsspec in c:\\users\\user\\anaconda3\\lib\\site-packages (from torch) (2023.10.0)\n",
      "Requirement already satisfied: scipy>=1.3.2 in c:\\users\\user\\anaconda3\\lib\\site-packages (from scikit-learn) (1.11.4)\n",
      "Requirement already satisfied: joblib>=1.1.1 in c:\\users\\user\\anaconda3\\lib\\site-packages (from scikit-learn) (1.2.0)\n",
      "Requirement already satisfied: threadpoolctl>=2.0.0 in c:\\users\\user\\anaconda3\\lib\\site-packages (from scikit-learn) (2.2.0)\n",
      "Requirement already satisfied: psutil in c:\\users\\user\\appdata\\roaming\\python\\python311\\site-packages (from accelerate) (5.9.5)\n",
      "Requirement already satisfied: protobuf in c:\\users\\user\\anaconda3\\lib\\site-packages (from transformers) (4.25.1)\n",
      "Requirement already satisfied: ipykernel>=4.5.1 in c:\\users\\user\\appdata\\roaming\\python\\python311\\site-packages (from ipywidgets) (6.25.2)\n",
      "Requirement already satisfied: ipython>=6.1.0 in c:\\users\\user\\appdata\\roaming\\python\\python311\\site-packages (from ipywidgets) (8.16.0)\n",
      "Requirement already satisfied: traitlets>=4.3.1 in c:\\users\\user\\appdata\\roaming\\python\\python311\\site-packages (from ipywidgets) (5.10.1)\n",
      "Requirement already satisfied: widgetsnbextension~=4.0 in c:\\users\\user\\anaconda3\\lib\\site-packages (from ipywidgets) (4.0.5)\n",
      "Requirement already satisfied: jupyterlab-widgets~=3.0 in c:\\users\\user\\anaconda3\\lib\\site-packages (from ipywidgets) (3.0.9)\n",
      "Requirement already satisfied: colorama in c:\\users\\user\\appdata\\roaming\\python\\python311\\site-packages (from tqdm) (0.4.6)\n",
      "Requirement already satisfied: zope.interface in c:\\users\\user\\anaconda3\\lib\\site-packages (from datetime) (5.4.0)\n",
      "Requirement already satisfied: imbalanced-learn in c:\\users\\user\\anaconda3\\lib\\site-packages (from imblearn) (0.11.0)\n",
      "Requirement already satisfied: click in c:\\users\\user\\anaconda3\\lib\\site-packages (from papermill) (8.1.7)\n",
      "Requirement already satisfied: nbformat>=5.1.2 in c:\\users\\user\\anaconda3\\lib\\site-packages (from papermill) (5.9.2)\n",
      "Requirement already satisfied: nbclient>=0.2.0 in c:\\users\\user\\anaconda3\\lib\\site-packages (from papermill) (0.8.0)\n",
      "Requirement already satisfied: entrypoints in c:\\users\\user\\anaconda3\\lib\\site-packages (from papermill) (0.4)\n",
      "Requirement already satisfied: tenacity>=5.0.2 in c:\\users\\user\\anaconda3\\lib\\site-packages (from papermill) (8.2.2)\n",
      "Requirement already satisfied: comm>=0.1.1 in c:\\users\\user\\appdata\\roaming\\python\\python311\\site-packages (from ipykernel>=4.5.1->ipywidgets) (0.1.4)\n",
      "Requirement already satisfied: debugpy>=1.6.5 in c:\\users\\user\\appdata\\roaming\\python\\python311\\site-packages (from ipykernel>=4.5.1->ipywidgets) (1.8.0)\n",
      "Requirement already satisfied: jupyter-client>=6.1.12 in c:\\users\\user\\appdata\\roaming\\python\\python311\\site-packages (from ipykernel>=4.5.1->ipywidgets) (8.3.1)\n",
      "Requirement already satisfied: jupyter-core!=5.0.*,>=4.12 in c:\\users\\user\\appdata\\roaming\\python\\python311\\site-packages (from ipykernel>=4.5.1->ipywidgets) (5.3.2)\n",
      "Requirement already satisfied: matplotlib-inline>=0.1 in c:\\users\\user\\appdata\\roaming\\python\\python311\\site-packages (from ipykernel>=4.5.1->ipywidgets) (0.1.6)\n",
      "Requirement already satisfied: nest-asyncio in c:\\users\\user\\appdata\\roaming\\python\\python311\\site-packages (from ipykernel>=4.5.1->ipywidgets) (1.5.8)\n",
      "Requirement already satisfied: pyzmq>=20 in c:\\users\\user\\appdata\\roaming\\python\\python311\\site-packages (from ipykernel>=4.5.1->ipywidgets) (25.1.1)\n",
      "Requirement already satisfied: tornado>=6.1 in c:\\users\\user\\appdata\\roaming\\python\\python311\\site-packages (from ipykernel>=4.5.1->ipywidgets) (6.3.3)\n",
      "Requirement already satisfied: backcall in c:\\users\\user\\appdata\\roaming\\python\\python311\\site-packages (from ipython>=6.1.0->ipywidgets) (0.2.0)\n",
      "Requirement already satisfied: decorator in c:\\users\\user\\appdata\\roaming\\python\\python311\\site-packages (from ipython>=6.1.0->ipywidgets) (5.1.1)\n",
      "Requirement already satisfied: jedi>=0.16 in c:\\users\\user\\appdata\\roaming\\python\\python311\\site-packages (from ipython>=6.1.0->ipywidgets) (0.19.0)\n",
      "Requirement already satisfied: pickleshare in c:\\users\\user\\appdata\\roaming\\python\\python311\\site-packages (from ipython>=6.1.0->ipywidgets) (0.7.5)\n",
      "Requirement already satisfied: prompt-toolkit!=3.0.37,<3.1.0,>=3.0.30 in c:\\users\\user\\appdata\\roaming\\python\\python311\\site-packages (from ipython>=6.1.0->ipywidgets) (3.0.39)\n",
      "Requirement already satisfied: pygments>=2.4.0 in c:\\users\\user\\appdata\\roaming\\python\\python311\\site-packages (from ipython>=6.1.0->ipywidgets) (2.16.1)\n",
      "Requirement already satisfied: stack-data in c:\\users\\user\\appdata\\roaming\\python\\python311\\site-packages (from ipython>=6.1.0->ipywidgets) (0.6.3)\n",
      "Requirement already satisfied: fastjsonschema in c:\\users\\user\\anaconda3\\lib\\site-packages (from nbformat>=5.1.2->papermill) (2.16.2)\n",
      "Requirement already satisfied: jsonschema>=2.6 in c:\\users\\user\\anaconda3\\lib\\site-packages (from nbformat>=5.1.2->papermill) (4.19.2)\n",
      "Requirement already satisfied: six>=1.5 in c:\\users\\user\\appdata\\roaming\\python\\python311\\site-packages (from python-dateutil>=2.8.2->pandas) (1.16.0)\n",
      "Requirement already satisfied: MarkupSafe>=2.0 in c:\\users\\user\\anaconda3\\lib\\site-packages (from jinja2->torch) (2.1.1)\n",
      "Requirement already satisfied: charset-normalizer<4,>=2 in c:\\users\\user\\anaconda3\\lib\\site-packages (from requests->transformers) (2.0.4)\n",
      "Requirement already satisfied: idna<4,>=2.5 in c:\\users\\user\\anaconda3\\lib\\site-packages (from requests->transformers) (3.4)\n",
      "Requirement already satisfied: urllib3<3,>=1.21.1 in c:\\users\\user\\anaconda3\\lib\\site-packages (from requests->transformers) (1.26.18)\n",
      "Requirement already satisfied: certifi>=2017.4.17 in c:\\users\\user\\anaconda3\\lib\\site-packages (from requests->transformers) (2023.11.17)\n",
      "Requirement already satisfied: mpmath>=0.19 in c:\\users\\user\\anaconda3\\lib\\site-packages (from sympy->torch) (1.3.0)\n",
      "Requirement already satisfied: setuptools in c:\\users\\user\\anaconda3\\lib\\site-packages (from zope.interface->datetime) (68.0.0)\n",
      "Requirement already satisfied: parso<0.9.0,>=0.8.3 in c:\\users\\user\\appdata\\roaming\\python\\python311\\site-packages (from jedi>=0.16->ipython>=6.1.0->ipywidgets) (0.8.3)\n",
      "Requirement already satisfied: attrs>=22.2.0 in c:\\users\\user\\anaconda3\\lib\\site-packages (from jsonschema>=2.6->nbformat>=5.1.2->papermill) (23.1.0)\n",
      "Requirement already satisfied: jsonschema-specifications>=2023.03.6 in c:\\users\\user\\anaconda3\\lib\\site-packages (from jsonschema>=2.6->nbformat>=5.1.2->papermill) (2023.7.1)\n",
      "Requirement already satisfied: referencing>=0.28.4 in c:\\users\\user\\anaconda3\\lib\\site-packages (from jsonschema>=2.6->nbformat>=5.1.2->papermill) (0.30.2)\n",
      "Requirement already satisfied: rpds-py>=0.7.1 in c:\\users\\user\\anaconda3\\lib\\site-packages (from jsonschema>=2.6->nbformat>=5.1.2->papermill) (0.10.6)\n",
      "Requirement already satisfied: platformdirs>=2.5 in c:\\users\\user\\appdata\\roaming\\python\\python311\\site-packages (from jupyter-core!=5.0.*,>=4.12->ipykernel>=4.5.1->ipywidgets) (3.10.0)\n",
      "Requirement already satisfied: pywin32>=300 in c:\\users\\user\\appdata\\roaming\\python\\python311\\site-packages (from jupyter-core!=5.0.*,>=4.12->ipykernel>=4.5.1->ipywidgets) (306)\n",
      "Requirement already satisfied: wcwidth in c:\\users\\user\\appdata\\roaming\\python\\python311\\site-packages (from prompt-toolkit!=3.0.37,<3.1.0,>=3.0.30->ipython>=6.1.0->ipywidgets) (0.2.8)\n",
      "Requirement already satisfied: executing>=1.2.0 in c:\\users\\user\\appdata\\roaming\\python\\python311\\site-packages (from stack-data->ipython>=6.1.0->ipywidgets) (2.0.0)\n",
      "Requirement already satisfied: asttokens>=2.1.0 in c:\\users\\user\\appdata\\roaming\\python\\python311\\site-packages (from stack-data->ipython>=6.1.0->ipywidgets) (2.4.0)\n",
      "Requirement already satisfied: pure-eval in c:\\users\\user\\appdata\\roaming\\python\\python311\\site-packages (from stack-data->ipython>=6.1.0->ipywidgets) (0.2.2)\n",
      "Note: you may need to restart the kernel to use updated packages.\n"
     ]
    }
   ],
   "source": [
    "%pip install numpy transformers pandas torch scikit-learn pyarrow accelerate transformers[torch] transformers[sentencepiece] ipywidgets tqdm datetime imblearn sentencepiece papermill"
   ]
  },
  {
   "cell_type": "code",
   "execution_count": 2,
   "id": "5d260a03",
   "metadata": {
    "execution": {
     "iopub.execute_input": "2023-12-13T06:37:52.355430Z",
     "iopub.status.busy": "2023-12-13T06:37:52.355430Z",
     "iopub.status.idle": "2023-12-13T06:37:55.569712Z",
     "shell.execute_reply": "2023-12-13T06:37:55.569712Z"
    },
    "papermill": {
     "duration": 3.219823,
     "end_time": "2023-12-13T06:37:55.571230",
     "exception": false,
     "start_time": "2023-12-13T06:37:52.351407",
     "status": "completed"
    },
    "tags": []
   },
   "outputs": [],
   "source": [
    "import torch\n",
    "import torch.nn as nn\n",
    "import logging\n",
    "import os\n",
    "import time\n",
    "import string\n",
    "import random\n",
    "import numpy as np\n",
    "import pandas as pd\n",
    "from transformers import BertTokenizer, BertForSequenceClassification, DistilBertTokenizer, DistilBertForSequenceClassification ,AlbertTokenizer, AlbertForSequenceClassification, RobertaTokenizer, RobertaForSequenceClassification\n",
    "from sklearn.model_selection import train_test_split\n",
    "from sklearn.metrics import precision_score, recall_score, f1_score, accuracy_score\n",
    "from torch.utils.data import DataLoader, TensorDataset\n",
    "from datetime import datetime"
   ]
  },
  {
   "cell_type": "code",
   "execution_count": 3,
   "id": "75f8adbc",
   "metadata": {
    "execution": {
     "iopub.execute_input": "2023-12-13T06:37:55.579243Z",
     "iopub.status.busy": "2023-12-13T06:37:55.578244Z",
     "iopub.status.idle": "2023-12-13T06:37:55.581900Z",
     "shell.execute_reply": "2023-12-13T06:37:55.581900Z"
    },
    "papermill": {
     "duration": 0.008678,
     "end_time": "2023-12-13T06:37:55.582917",
     "exception": false,
     "start_time": "2023-12-13T06:37:55.574239",
     "status": "completed"
    },
    "tags": [
     "parameters"
    ]
   },
   "outputs": [],
   "source": [
    "# Default parameters, Papermill will overwrite these\n",
    "categories = 'science'\n",
    "select_model = 0\n",
    "freeze_layers_up_to = 0\n",
    "weight_for_class_0 = 0.45\n",
    "weight_for_class_1 = 0.55\n",
    "learning_rate = 0.00001\n",
    "min_acc = 0.85"
   ]
  },
  {
   "cell_type": "code",
   "execution_count": 4,
   "id": "54e159dd",
   "metadata": {
    "execution": {
     "iopub.execute_input": "2023-12-13T06:37:55.589916Z",
     "iopub.status.busy": "2023-12-13T06:37:55.589916Z",
     "iopub.status.idle": "2023-12-13T06:37:55.592946Z",
     "shell.execute_reply": "2023-12-13T06:37:55.592946Z"
    },
    "papermill": {
     "duration": 0.008035,
     "end_time": "2023-12-13T06:37:55.593951",
     "exception": false,
     "start_time": "2023-12-13T06:37:55.585916",
     "status": "completed"
    },
    "tags": [
     "injected-parameters"
    ]
   },
   "outputs": [],
   "source": [
    "# Parameters\n",
    "freeze_layers_up_to = 0\n",
    "weight_for_class_0 = 0.45\n",
    "weight_for_class_1 = 0.55\n",
    "learning_rate = 1e-05\n",
    "min_acc = 0.8\n",
    "select_model = 5\n",
    "categories = \"crime\"\n"
   ]
  },
  {
   "cell_type": "code",
   "execution_count": 5,
   "id": "3000cf83",
   "metadata": {
    "execution": {
     "iopub.execute_input": "2023-12-13T06:37:55.599957Z",
     "iopub.status.busy": "2023-12-13T06:37:55.599957Z",
     "iopub.status.idle": "2023-12-13T06:37:55.603569Z",
     "shell.execute_reply": "2023-12-13T06:37:55.603569Z"
    },
    "papermill": {
     "duration": 0.008617,
     "end_time": "2023-12-13T06:37:55.605575",
     "exception": false,
     "start_time": "2023-12-13T06:37:55.596958",
     "status": "completed"
    },
    "tags": []
   },
   "outputs": [],
   "source": [
    "def generate_random_string(length=10):\n",
    "    letters = string.ascii_letters + string.digits\n",
    "    return ''.join(random.choice(letters) for _ in range(length))\n",
    "\n",
    "run_id = generate_random_string()"
   ]
  },
  {
   "cell_type": "code",
   "execution_count": 6,
   "id": "0e2bdea4",
   "metadata": {
    "execution": {
     "iopub.execute_input": "2023-12-13T06:37:55.611576Z",
     "iopub.status.busy": "2023-12-13T06:37:55.611576Z",
     "iopub.status.idle": "2023-12-13T06:37:55.616315Z",
     "shell.execute_reply": "2023-12-13T06:37:55.616315Z"
    },
    "papermill": {
     "duration": 0.009747,
     "end_time": "2023-12-13T06:37:55.617322",
     "exception": false,
     "start_time": "2023-12-13T06:37:55.607575",
     "status": "completed"
    },
    "tags": []
   },
   "outputs": [],
   "source": [
    "log_dir_mapping = {\n",
    "  'crime': './results/crime',\n",
    "  'science': './results/science',\n",
    "  'health': './results/health',\n",
    "  'politics': './results/politics',\n",
    "  'social_media': './results/social_media'\n",
    "}\n",
    "\n",
    "log_dir = log_dir_mapping.get(categories, './results')\n",
    "os.makedirs(log_dir, exist_ok=True)\n",
    "\n",
    "log_filename = f'training_log_{datetime.now().strftime(\"%Y%m%d_%H%M%S\")}.log'\n",
    "log_filepath = os.path.join(log_dir, log_filename)\n",
    "\n",
    "logging.basicConfig(filename=log_filepath, filemode='w', format='%(asctime)s - %(message)s', level=logging.INFO)\n",
    "logging.info(f'\\nStarting detection model - {run_id}')"
   ]
  },
  {
   "cell_type": "code",
   "execution_count": 7,
   "id": "316944ea",
   "metadata": {
    "execution": {
     "iopub.execute_input": "2023-12-13T06:37:55.623868Z",
     "iopub.status.busy": "2023-12-13T06:37:55.623868Z",
     "iopub.status.idle": "2023-12-13T06:37:55.646581Z",
     "shell.execute_reply": "2023-12-13T06:37:55.646581Z"
    },
    "papermill": {
     "duration": 0.027267,
     "end_time": "2023-12-13T06:37:55.647587",
     "exception": false,
     "start_time": "2023-12-13T06:37:55.620320",
     "status": "completed"
    },
    "tags": []
   },
   "outputs": [
    {
     "name": "stdout",
     "output_type": "stream",
     "text": [
      "                                                   text  label  \\\n",
      "0     Wed 05 Apr 2017 Syria attack symptoms consiste...      1   \n",
      "1     Fri 07 Apr 2017 at 0914 Homs governor says U.S...      1   \n",
      "2     Sun 16 Apr 2017 Death toll from Aleppo bomb at...      1   \n",
      "3     Wed 19 Apr 2017 Aleppo bomb blast kills six Sy...      1   \n",
      "4     Sun 10 Jul 2016 29 Syria Rebels Dead in Fighti...      1   \n",
      "...                                                 ...    ...   \n",
      "1114  Did Seven Key Witnesses to Las Vegas Shooting ...      1   \n",
      "1115                               Australian Gun Stats      1   \n",
      "1116                               Australian Gun Stats      1   \n",
      "1117  Is a Murderous Taxi Driver Killing People in H...      1   \n",
      "1118  Is a Murderous Taxi Driver Killing People in H...      1   \n",
      "\n",
      "                                               metadata  \n",
      "0     {'date': '4/5/2017', 'label': 1, 'location': '...  \n",
      "1     {'date': '4/7/2017', 'label': 1, 'location': '...  \n",
      "2     {'date': '4/16/2017', 'label': 1, 'location': ...  \n",
      "3     {'date': '4/19/2017', 'label': 1, 'location': ...  \n",
      "4     {'date': '7/10/2016', 'label': 1, 'location': ...  \n",
      "...                                                 ...  \n",
      "1114  {'article_category_phase1': 'Politics  Crime',...  \n",
      "1115  {'article_category_phase1': 'Politics  Crime',...  \n",
      "1116  {'article_category_phase1': 'Politics  Crime',...  \n",
      "1117  {'article_category_phase1': 'Viral Phenomena  ...  \n",
      "1118  {'article_category_phase1': 'Viral Phenomena  ...  \n",
      "\n",
      "[1119 rows x 3 columns]\n"
     ]
    }
   ],
   "source": [
    "root_dir = '../data'\n",
    "\n",
    "def load_data_from_category(category):\n",
    "    files = os.listdir(os.path.join(root_dir, category))\n",
    "    dataframes = []\n",
    "    for file in files:\n",
    "        if file.endswith('.feather'):\n",
    "            df = pd.read_feather(os.path.join(root_dir, category, file))\n",
    "            dataframes.append(df)\n",
    "    return pd.concat(dataframes, ignore_index=True)\n",
    "\n",
    "# Use this one when running multiple categories\n",
    "#combined_dataframes = [load_data_from_category(category) for category in categories] \n",
    "# This one is for single category\n",
    "combined_dataframes = [load_data_from_category(categories)]\n",
    "combined_df = pd.concat(combined_dataframes, ignore_index=True)\n",
    "combined_df.dropna(inplace=True)\n",
    "print(combined_df)"
   ]
  },
  {
   "cell_type": "code",
   "execution_count": 8,
   "id": "721707ac",
   "metadata": {
    "execution": {
     "iopub.execute_input": "2023-12-13T06:37:55.654784Z",
     "iopub.status.busy": "2023-12-13T06:37:55.654784Z",
     "iopub.status.idle": "2023-12-13T06:37:55.661470Z",
     "shell.execute_reply": "2023-12-13T06:37:55.661287Z"
    },
    "papermill": {
     "duration": 0.012685,
     "end_time": "2023-12-13T06:37:55.663292",
     "exception": false,
     "start_time": "2023-12-13T06:37:55.650607",
     "status": "completed"
    },
    "tags": []
   },
   "outputs": [
    {
     "data": {
      "text/plain": [
       "'\\ndef load_data_from_category(category, filenames):\\n    dataframes = []\\n    for file_name in filenames:\\n        file_path = os.path.join(root_dir, category, file_name)\\n        if os.path.exists(file_path):\\n            df = pd.read_feather(file_path)\\n            dataframes.append(df)\\n        else:\\n            print(f\"The file \\'{file_name}\\' in the \\'{category}\\' category does not exist.\")\\n    return pd.concat(dataframes, ignore_index=True)\\n\\nroot_dir = \\'../data\\'\\ncategory = \\'health\\'\\n\\n# List of filenames to include in combined_df\\n#included_filenames = [\\'isot_dataset.feather\\', \\'fake_news_dataset.feather\\', \\'pheme.feather\\', \\'liar_dataset.feather\\', \\'politifact_dataset.feather\\']\\nincluded_filenames = [\\'covid_claims.feather\\', \\'covid_fake_news_dataset.feather\\', \\'covid_FNIR.feather\\']\\ncombined_df = load_data_from_category(category, included_filenames)\\n\\n# Drop NaN values\\ncombined_df.dropna(inplace=True)\\n\\n# Print the resulting DataFrame\\nprint(combined_df)\\n'"
      ]
     },
     "execution_count": 8,
     "metadata": {},
     "output_type": "execute_result"
    }
   ],
   "source": [
    "'''\n",
    "def load_data_from_category(category, filenames):\n",
    "    dataframes = []\n",
    "    for file_name in filenames:\n",
    "        file_path = os.path.join(root_dir, category, file_name)\n",
    "        if os.path.exists(file_path):\n",
    "            df = pd.read_feather(file_path)\n",
    "            dataframes.append(df)\n",
    "        else:\n",
    "            print(f\"The file '{file_name}' in the '{category}' category does not exist.\")\n",
    "    return pd.concat(dataframes, ignore_index=True)\n",
    "\n",
    "root_dir = '../data'\n",
    "category = 'health'\n",
    "\n",
    "# List of filenames to include in combined_df\n",
    "#included_filenames = ['isot_dataset.feather', 'fake_news_dataset.feather', 'pheme.feather', 'liar_dataset.feather', 'politifact_dataset.feather']\n",
    "included_filenames = ['covid_claims.feather', 'covid_fake_news_dataset.feather', 'covid_FNIR.feather']\n",
    "combined_df = load_data_from_category(category, included_filenames)\n",
    "\n",
    "# Drop NaN values\n",
    "combined_df.dropna(inplace=True)\n",
    "\n",
    "# Print the resulting DataFrame\n",
    "print(combined_df)\n",
    "'''"
   ]
  },
  {
   "cell_type": "code",
   "execution_count": 9,
   "id": "5ef72b26",
   "metadata": {
    "execution": {
     "iopub.execute_input": "2023-12-13T06:37:55.670292Z",
     "iopub.status.busy": "2023-12-13T06:37:55.669292Z",
     "iopub.status.idle": "2023-12-13T06:37:55.674200Z",
     "shell.execute_reply": "2023-12-13T06:37:55.674200Z"
    },
    "papermill": {
     "duration": 0.009895,
     "end_time": "2023-12-13T06:37:55.675206",
     "exception": false,
     "start_time": "2023-12-13T06:37:55.665311",
     "status": "completed"
    },
    "tags": []
   },
   "outputs": [
    {
     "name": "stdout",
     "output_type": "stream",
     "text": [
      "['Wed 05 Apr 2017 Syria attack symptoms consistent with nerve agent use WHO. Victims of a suspected chemical attack in Syria appeared to show symptoms consistent with reaction to a nerve agent the World Health Organization said on Wednesday. \"Some cases appear to show additional signs consistent with exposure to organophosphorus chemicals a category of chemicals that includes nerve agents\" WHO said in a statement putting the death toll at at least 70. The United States has said the deaths were caused by sarin nerve gas dropped by Syrian aircraft. Russia has said it believes poison gas had leaked from a rebel chemical weapons depot struck by Syrian bombs. Sarin is an organophosporus compound and a nerve agent. Chlorine and mustard gas which are also believed to have been used in the past in Syria are not. A Russian Defence Ministry spokesman did not say what agent was used in the attack but said the rebels had used the same chemical weapons in Aleppo last year. The WHO said it was likely that some kind of chemical was used in the attack because sufferers had no apparent external injuries and died from a rapid onset of similar symptoms including acute respiratory distress. It said its experts in Turkey were giving guidance to overwhelmed health workers in Idlib on the diagnosis and treatment of patients and medicines such as Atropine an antidote for some types of chemical exposure and steroids for symptomatic treatment had been sent. A U.N. Commission of Inquiry into human rights in Syria has previously said forces loyal to Syrian President Bashar al-Assad have used lethal chlorine gas on multiple occasions. Hundreds of civilians died in a sarin gas attack in Ghouta on the outskirts of Damascus in August 2013. Assads government has always denied responsibility for that attack. Syria agreed to destroy its chemical weapons in 2013 under a deal brokered by Moscow and Washington. But Russia a Syrian ally and China have repeatedly vetoed any United Nations move to sanction Assad or refer the situation in Syria to the International Criminal Court. \"These types of weapons are banned by international law because they represent an intolerable barbarism\" Peter Salama Executive Director of the WHO Health Emergencies Programme said in the WHO statement. - REUTERS'\n",
      " 'Fri 07 Apr 2017 at 0914 Homs governor says U.S. attack caused deaths but doesnt see big human losses. A U.S. missile strike on an airbase near the Syrian city of Homs on Friday caused deaths but is not believed to have resulted in \"big human casualties\" Homs Governor Talal Barazi said. Barazi said the attack served the interests of \"armed terrorist groups\" including Islamic State adding that the targeted airbase had been providing air support for army operations against Islamic State east of Palmyra. Barazi was speaking in a series of phone interviews with media on Friday. He confirmed deaths at the airbase in a phone interview with Lebanese TV station al-Mayadeen. \"I believe - God willing - that the human casualties are not big but there is material damage. We hope there are not many victims and martyrs\" he told Reuters by telephone. Speaking at dawn he said rescue and fire-fighting operations had been going on for two hours at the base. He said the attack was a form of \"support for the armed terrorist groups and it is an attempt to weaken the capabilities of the Syrian Arab Army to combat terrorism\". Speaking to Syrian state TV Barazi said \"The Syrian leadership and Syrian policy will not change. \"This targeting was not the first and I dont believe it will be the last\" he added. In separate comments to al-Mayadeen he said \"The war against terrorism will continue.\" U.S. President Donald Trump said he ordered missile strikes against an airfield from which a deadly chemical weapons attack was launched this week declaring he acted in Americas \"national security interest\" against Syrian President Bashar al-Assad. U.S. officials said the military fired dozens of cruise missiles against the base in response to the suspected gas attack in a rebel-held area that Washington has blamed on Assads forces. The Syrian government has strongly denied responsibility. The U.S. strikes \"targeted military positions in Syria and in Homs specifically\" in order to publicly \"serve the goals of terrorism in Syria and the goals of Israel in the long run\" Barazi added in his interview with state TV.-REUTERS'\n",
      " 'Sun 16 Apr 2017 Death toll from Aleppo bomb attack at least 112. The death toll from a bomb blast on a crowded Syrian bus convoy outside Aleppo reached at least 112 people the Syrian Observatory for Human Rights monitoring group said on Sunday. Syrian rescue workers the Civil Defence said that they had carted away at least 100 bodies from the site of Saturdays blast which hit buses carrying Shiite residents as they waited to cross from rebel into government territory in an evacuation deal between warring sides. The British-based Observatory said the number was expected to rise. Those killed were mostly residents of the villages of al-Foua and Kefraya in Idlib province but included rebel fighters guarding the convoy the Observatory said. There was no immediate claim of responsibility for the attack which pro-Damascus media said was carried out by a suicide car bomber. The convoy was carrying at least 5000 people including civilians and several hundred pro-government fighters who were granted safe passage out of the two Shiite villages which are besieged by rebels. Under the evacuation deal more than 2000 people including rebel fighters were granted safe passage out of Madaya a town near Damascus besieged by government forces and their allies. That convoy was waiting at a bus garage in a government-held area on Aleppos outskirts a few miles from where the attack took place. Madaya evacuees said they heard the blast. --Reuters'\n",
      " 'Wed 19 Apr 2017 Aleppo bomb blast kills six Syrian state TV. A bomb blast killed six people and injured 32 in the Salah al-Din district of Aleppo Syrian state television reported on Wednesday without giving further details. Salah al-Din is located west of Aleppos Old City in a district that was part of the last rebel enclave there until it was taken over by the Syrian army in an advance in December. --Reuters'\n",
      " 'Sun 10 Jul 2016 29 Syria Rebels Dead in Fighting for Key Aleppo Road. At least 29 Syrian rebels were killed in clashes with regime troops overnight during a failed bid to reopen the oppositions key supply route into Aleppo city a monitor said Sunday. The fighters from the Faylaq al-Sham Islamist faction and Al-Qaeda affiliate Al-Nusra Front were killed trying to reopen the Castello Road which regime forces effectively severed on Thursday the Syrian Observatory for Human Rights monitor said.--AFP']\n",
      "[1 1 1 1 1]\n",
      "Number of unique classes: 2\n",
      "Class 0: 546 instances\n",
      "Class 1: 573 instances\n"
     ]
    }
   ],
   "source": [
    "# May need to include more columns to process metadata\n",
    "texts = combined_df['text'].values\n",
    "labels = combined_df['label'].values\n",
    "num_classes = combined_df['label'].nunique()\n",
    "\n",
    "print(texts[:5])\n",
    "print(labels[:5])\n",
    "print(f\"Number of unique classes: {num_classes}\")\n",
    "\n",
    "unique_classes, class_counts = np.unique(labels, return_counts=True)\n",
    "\n",
    "for class_label, count in zip(unique_classes, class_counts):\n",
    "  print(f\"Class {class_label}: {count} instances\")\n"
   ]
  },
  {
   "cell_type": "code",
   "execution_count": 10,
   "id": "04405635",
   "metadata": {
    "execution": {
     "iopub.execute_input": "2023-12-13T06:37:55.683729Z",
     "iopub.status.busy": "2023-12-13T06:37:55.683729Z",
     "iopub.status.idle": "2023-12-13T06:37:55.687144Z",
     "shell.execute_reply": "2023-12-13T06:37:55.687144Z"
    },
    "papermill": {
     "duration": 0.008937,
     "end_time": "2023-12-13T06:37:55.688148",
     "exception": false,
     "start_time": "2023-12-13T06:37:55.679211",
     "status": "completed"
    },
    "tags": []
   },
   "outputs": [],
   "source": [
    "# Split the dataset into training and testing sets\n",
    "train_texts, test_texts, train_labels, test_labels = train_test_split(texts, labels, test_size=0.2, random_state=7623)"
   ]
  },
  {
   "cell_type": "code",
   "execution_count": 11,
   "id": "25b22084",
   "metadata": {
    "execution": {
     "iopub.execute_input": "2023-12-13T06:37:55.696720Z",
     "iopub.status.busy": "2023-12-13T06:37:55.695720Z",
     "iopub.status.idle": "2023-12-13T06:37:56.263944Z",
     "shell.execute_reply": "2023-12-13T06:37:56.263944Z"
    },
    "papermill": {
     "duration": 0.573236,
     "end_time": "2023-12-13T06:37:56.264949",
     "exception": false,
     "start_time": "2023-12-13T06:37:55.691713",
     "status": "completed"
    },
    "tags": []
   },
   "outputs": [
    {
     "name": "stderr",
     "output_type": "stream",
     "text": [
      "Some weights of AlbertForSequenceClassification were not initialized from the model checkpoint at albert-base-v2 and are newly initialized: ['classifier.weight', 'classifier.bias']\n",
      "You should probably TRAIN this model on a down-stream task to be able to use it for predictions and inference.\n"
     ]
    }
   ],
   "source": [
    "# Load the pre-trained BERT (or BERT variation) model and tokenizer\n",
    "model_mapping = {\n",
    "    0: (BertTokenizer, BertForSequenceClassification, 'bert-base-uncased'),\n",
    "    1: (BertTokenizer, BertForSequenceClassification, 'bert-base-cased'),\n",
    "    2: (DistilBertTokenizer, DistilBertForSequenceClassification, 'distilbert-base-uncased-finetuned-sst-2-english'),\n",
    "    3: (DistilBertTokenizer, DistilBertForSequenceClassification, 'distilbert-base-uncased'),\n",
    "    4: (RobertaTokenizer, RobertaForSequenceClassification, 'roberta-base'),\n",
    "    5: (AlbertTokenizer, AlbertForSequenceClassification, 'albert-base-v2')\n",
    "}\n",
    "\n",
    "tokenizer_class, model_class, model_name = model_mapping.get(select_model, (None, None, None))\n",
    "\n",
    "if tokenizer_class and model_class and model_name:\n",
    "    tokenizer = tokenizer_class.from_pretrained(model_name)\n",
    "    model = model_class.from_pretrained(model_name, num_labels=2)\n",
    "else:\n",
    "    logging.error(f\"Invalid model selection: {select_model}\")"
   ]
  },
  {
   "cell_type": "code",
   "execution_count": 12,
   "id": "331839aa",
   "metadata": {
    "execution": {
     "iopub.execute_input": "2023-12-13T06:37:56.273590Z",
     "iopub.status.busy": "2023-12-13T06:37:56.273590Z",
     "iopub.status.idle": "2023-12-13T06:37:56.279452Z",
     "shell.execute_reply": "2023-12-13T06:37:56.279452Z"
    },
    "papermill": {
     "duration": 0.012975,
     "end_time": "2023-12-13T06:37:56.281458",
     "exception": false,
     "start_time": "2023-12-13T06:37:56.268483",
     "status": "completed"
    },
    "tags": []
   },
   "outputs": [],
   "source": [
    "# Freeze the layers up to the specified layer\n",
    "if freeze_layers_up_to > 0:\n",
    "    for param in model.parameters():\n",
    "        param.requires_grad = False\n",
    "\n",
    "    if select_model == 0 or select_model == 1:\n",
    "        print(\"Layers: \"+str(len(model.bert.encoder.layer)))\n",
    "        for param in model.bert.embeddings.parameters():\n",
    "            param.requires_grad = True\n",
    "    elif select_model == 2 or select_model == 3:\n",
    "        print(\"Layers: \"+str(len(model.distilbert.transformer.layer)))\n",
    "        for param in model.distilbert.embeddings.parameters():\n",
    "            param.requires_grad = True\n",
    "    elif select_model == 4:\n",
    "        print(\"Layers: \"+str(len(model.roberta.encoder.layer)))\n",
    "        for param in model.roberta.embeddings.parameters():\n",
    "            param.requires_grad = True\n",
    "    elif select_model == 5:\n",
    "        print(\"Layers: \"+str(len(model.albert.encoder.albert_layer_groups)))\n",
    "        for param in model.albert.embeddings.parameters():\n",
    "            param.requires_grad = True\n"
   ]
  },
  {
   "cell_type": "code",
   "execution_count": 13,
   "id": "021afe17",
   "metadata": {
    "execution": {
     "iopub.execute_input": "2023-12-13T06:37:56.289516Z",
     "iopub.status.busy": "2023-12-13T06:37:56.288516Z",
     "iopub.status.idle": "2023-12-13T06:37:57.683035Z",
     "shell.execute_reply": "2023-12-13T06:37:57.683035Z"
    },
    "papermill": {
     "duration": 1.400045,
     "end_time": "2023-12-13T06:37:57.684049",
     "exception": false,
     "start_time": "2023-12-13T06:37:56.284004",
     "status": "completed"
    },
    "tags": []
   },
   "outputs": [],
   "source": [
    "# Tokenize the texts\n",
    "train_encodings = tokenizer(list(train_texts), truncation=True, padding=True)\n",
    "test_encodings = tokenizer(list(test_texts), truncation=True, padding=True)"
   ]
  },
  {
   "cell_type": "code",
   "execution_count": 14,
   "id": "ab2f66bc",
   "metadata": {
    "execution": {
     "iopub.execute_input": "2023-12-13T06:37:57.692560Z",
     "iopub.status.busy": "2023-12-13T06:37:57.692560Z",
     "iopub.status.idle": "2023-12-13T06:37:57.800253Z",
     "shell.execute_reply": "2023-12-13T06:37:57.800253Z"
    },
    "papermill": {
     "duration": 0.114222,
     "end_time": "2023-12-13T06:37:57.802273",
     "exception": false,
     "start_time": "2023-12-13T06:37:57.688051",
     "status": "completed"
    },
    "tags": []
   },
   "outputs": [],
   "source": [
    "# Convert the encodings to PyTorch tensors\n",
    "train_inputs = torch.tensor(train_encodings['input_ids'])\n",
    "train_masks = torch.tensor(train_encodings['attention_mask'])\n",
    "train_labels = torch.tensor(train_labels)\n",
    "\n",
    "test_inputs = torch.tensor(test_encodings['input_ids'])\n",
    "test_masks = torch.tensor(test_encodings['attention_mask'])\n",
    "test_labels = torch.tensor(test_labels)\n",
    "\n",
    "# Create a DataLoader for training and testing\n",
    "train_data = TensorDataset(train_inputs, train_masks, train_labels)\n",
    "train_dataloader = DataLoader(train_data, batch_size=8)\n",
    "\n",
    "test_data = TensorDataset(test_inputs, test_masks, test_labels)\n",
    "test_dataloader = DataLoader(test_data, batch_size=8)"
   ]
  },
  {
   "cell_type": "code",
   "execution_count": 15,
   "id": "4b9bcef7",
   "metadata": {
    "execution": {
     "iopub.execute_input": "2023-12-13T06:37:57.809784Z",
     "iopub.status.busy": "2023-12-13T06:37:57.809784Z",
     "iopub.status.idle": "2023-12-13T06:37:57.812803Z",
     "shell.execute_reply": "2023-12-13T06:37:57.812803Z"
    },
    "papermill": {
     "duration": 0.009535,
     "end_time": "2023-12-13T06:37:57.813808",
     "exception": false,
     "start_time": "2023-12-13T06:37:57.804273",
     "status": "completed"
    },
    "tags": []
   },
   "outputs": [
    {
     "name": "stdout",
     "output_type": "stream",
     "text": [
      "Using device: cuda\n"
     ]
    }
   ],
   "source": [
    "# Check for GPU availability\n",
    "device = 'cuda' if torch.cuda.is_available() else 'cpu'\n",
    "print(f'Using device: {device}')"
   ]
  },
  {
   "cell_type": "code",
   "execution_count": 16,
   "id": "82662998",
   "metadata": {
    "execution": {
     "iopub.execute_input": "2023-12-13T06:37:57.823358Z",
     "iopub.status.busy": "2023-12-13T06:37:57.823358Z",
     "iopub.status.idle": "2023-12-13T06:39:06.314482Z",
     "shell.execute_reply": "2023-12-13T06:39:06.314482Z"
    },
    "papermill": {
     "duration": 68.497644,
     "end_time": "2023-12-13T06:39:06.315486",
     "exception": false,
     "start_time": "2023-12-13T06:37:57.817842",
     "status": "completed"
    },
    "tags": []
   },
   "outputs": [],
   "source": [
    "# Move the model and data to the GPU\n",
    "model.to(device)\n",
    "train_inputs, train_masks, train_labels = train_inputs.to(device), train_masks.to(device), train_labels.to(device)\n",
    "test_inputs, test_masks, test_labels = test_inputs.to(device), test_masks.to(device), test_labels.to(device)\n",
    "\n",
    "# Define class weights based on class imbalance\n",
    "class_weights = [weight_for_class_0, weight_for_class_1]\n",
    "\n",
    "# Define the loss function with class weights\n",
    "loss_fn = nn.CrossEntropyLoss(weight=torch.tensor(class_weights).to(device))\n",
    "\n",
    "# Define the optimizer with a learning rate\n",
    "optimizer = torch.optim.AdamW(model.parameters(), lr=learning_rate)\n",
    "\n",
    "# Fine-tune the pre-trained BERT model\n",
    "train_start_time = time.time()\n",
    "model.train()\n",
    "model.to(device)\n",
    "for batch in train_dataloader:\n",
    "    optimizer.zero_grad()\n",
    "    inputs = {'input_ids': batch[0].to(device), 'attention_mask': batch[1].to(device), 'labels': batch[2].to(device)}\n",
    "    outputs = model(**inputs)\n",
    "    loss = loss_fn(outputs.logits, inputs['labels'])\n",
    "    loss.backward()\n",
    "    optimizer.step()\n",
    "train_end_time = time.time()"
   ]
  },
  {
   "cell_type": "code",
   "execution_count": 17,
   "id": "f66e6891",
   "metadata": {
    "execution": {
     "iopub.execute_input": "2023-12-13T06:39:06.324898Z",
     "iopub.status.busy": "2023-12-13T06:39:06.323898Z",
     "iopub.status.idle": "2023-12-13T06:39:13.033916Z",
     "shell.execute_reply": "2023-12-13T06:39:13.033916Z"
    },
    "papermill": {
     "duration": 6.716435,
     "end_time": "2023-12-13T06:39:13.035921",
     "exception": false,
     "start_time": "2023-12-13T06:39:06.319486",
     "status": "completed"
    },
    "tags": []
   },
   "outputs": [],
   "source": [
    "# Evaluate the model\n",
    "eval_start_time = time.time()\n",
    "model.eval()\n",
    "predictions = []\n",
    "for batch in test_dataloader:\n",
    "    inputs = {'input_ids': batch[0].to(device), 'attention_mask': batch[1].to(device), 'labels': None}\n",
    "    with torch.no_grad():\n",
    "        outputs = model(**inputs)\n",
    "    logits = outputs.logits\n",
    "    predictions.extend(logits.argmax(dim=1).cpu().tolist())\n",
    "eval_end_time = time.time()"
   ]
  },
  {
   "cell_type": "code",
   "execution_count": 18,
   "id": "5911b495",
   "metadata": {
    "execution": {
     "iopub.execute_input": "2023-12-13T06:39:13.046472Z",
     "iopub.status.busy": "2023-12-13T06:39:13.045471Z",
     "iopub.status.idle": "2023-12-13T06:39:13.053060Z",
     "shell.execute_reply": "2023-12-13T06:39:13.053060Z"
    },
    "papermill": {
     "duration": 0.014159,
     "end_time": "2023-12-13T06:39:13.054079",
     "exception": false,
     "start_time": "2023-12-13T06:39:13.039920",
     "status": "completed"
    },
    "tags": []
   },
   "outputs": [],
   "source": [
    "# Calculate additional metrics\n",
    "precision = precision_score(test_labels.cpu(), predictions)\n",
    "recall = recall_score(test_labels.cpu(), predictions)\n",
    "f1 = f1_score(test_labels.cpu(), predictions)\n",
    "accuracy = accuracy_score(test_labels.cpu(), predictions)\n",
    "g_mean = (recall*accuracy)**0.5"
   ]
  },
  {
   "cell_type": "code",
   "execution_count": 19,
   "id": "96fb120e",
   "metadata": {
    "execution": {
     "iopub.execute_input": "2023-12-13T06:39:13.062096Z",
     "iopub.status.busy": "2023-12-13T06:39:13.062096Z",
     "iopub.status.idle": "2023-12-13T06:39:13.065540Z",
     "shell.execute_reply": "2023-12-13T06:39:13.065540Z"
    },
    "papermill": {
     "duration": 0.00896,
     "end_time": "2023-12-13T06:39:13.066545",
     "exception": false,
     "start_time": "2023-12-13T06:39:13.057585",
     "status": "completed"
    },
    "tags": []
   },
   "outputs": [],
   "source": [
    "save_dir = './models'\n",
    "os.makedirs(save_dir, exist_ok=True)\n",
    "\n",
    "saved_model_name = f\"bert_model_{run_id}.pt\"\n",
    "model_path = os.path.join(save_dir, saved_model_name)\n",
    "\n",
    "# Only save model if accuracy meets minimum threshold\n",
    "if accuracy > min_acc:\n",
    "    torch.save(model.state_dict(), model_path)"
   ]
  },
  {
   "cell_type": "code",
   "execution_count": 20,
   "id": "b5c6d753",
   "metadata": {
    "execution": {
     "iopub.execute_input": "2023-12-13T06:39:13.074802Z",
     "iopub.status.busy": "2023-12-13T06:39:13.073802Z",
     "iopub.status.idle": "2023-12-13T06:39:13.088372Z",
     "shell.execute_reply": "2023-12-13T06:39:13.088372Z"
    },
    "papermill": {
     "duration": 0.018833,
     "end_time": "2023-12-13T06:39:13.089378",
     "exception": false,
     "start_time": "2023-12-13T06:39:13.070545",
     "status": "completed"
    },
    "tags": []
   },
   "outputs": [
    {
     "name": "stdout",
     "output_type": "stream",
     "text": [
      "Evaluation Results:\n",
      "Training time: 67.0369017124176 seconds\n",
      "Inference time: 6.705554723739624 seconds\n",
      "Precision: 0.5\n",
      "Recall: 0.3333333333333333\n",
      "F-score: 0.4\n",
      "Accuracy: 0.5982142857142857\n",
      "G-mean: 0.4465476031788346\n"
     ]
    }
   ],
   "source": [
    "# Log the results\n",
    "logging.info(\"Evaluation Results\")\n",
    "logging.info(f\"Training time: {train_end_time - train_start_time} seconds\")\n",
    "logging.info(f\"Inference time: {eval_end_time - eval_start_time} seconds\")\n",
    "logging.info(f\"Precision: {precision}\")\n",
    "logging.info(f\"Recall: {recall}\")\n",
    "logging.info(f\"F-score: {f1}\")\n",
    "logging.info(f\"Accuracy: {accuracy}\")\n",
    "logging.info(f\"G-mean: {g_mean}\")\n",
    "logging.info(\"Additional Info\")\n",
    "logging.info(f\"Model name: {model_name}\")\n",
    "logging.info(f\"Datasets list: {categories}\")\n",
    "logging.info(f\"Layers frozen: {freeze_layers_up_to}\")\n",
    "logging.info(f\"Learning rate: {learning_rate}\")\n",
    "logging.info(f\"Class weights: {class_weights}\")\n",
    "if accuracy > min_acc:\n",
    "  logging.info(f\"Model saved to: {model_path}\")\n",
    "else:\n",
    "  logging.info(\"Model not saved, didn't meet minimum accuracy threshold\")\n",
    "\n",
    "# Print the evaluation results\n",
    "print(\"Evaluation Results:\")\n",
    "print(f\"Training time: {train_end_time - train_start_time} seconds\")\n",
    "print(f\"Inference time: {eval_end_time - eval_start_time} seconds\")\n",
    "print(f\"Precision: {precision}\")\n",
    "print(f\"Recall: {recall}\")\n",
    "print(f\"F-score: {f1}\")\n",
    "print(f\"Accuracy: {accuracy}\")\n",
    "print(f\"G-mean: {g_mean}\")"
   ]
  }
 ],
 "metadata": {
  "kernelspec": {
   "display_name": "Python 3",
   "language": "python",
   "name": "python3"
  },
  "language_info": {
   "codemirror_mode": {
    "name": "ipython",
    "version": 3
   },
   "file_extension": ".py",
   "mimetype": "text/x-python",
   "name": "python",
   "nbconvert_exporter": "python",
   "pygments_lexer": "ipython3",
   "version": "3.11.5"
  },
  "papermill": {
   "default_parameters": {},
   "duration": 88.641449,
   "end_time": "2023-12-13T06:39:14.194903",
   "environment_variables": {},
   "exception": null,
   "input_path": "detection.ipynb",
   "output_path": "output_detection_crime_model_5.ipynb",
   "parameters": {
    "categories": "crime",
    "freeze_layers_up_to": 0,
    "learning_rate": 1e-05,
    "min_acc": 0.8,
    "select_model": 5,
    "weight_for_class_0": 0.45,
    "weight_for_class_1": 0.55
   },
   "start_time": "2023-12-13T06:37:45.553454",
   "version": "2.5.0"
  }
 },
 "nbformat": 4,
 "nbformat_minor": 5
}