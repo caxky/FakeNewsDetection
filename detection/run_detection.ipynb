{
 "cells": [
  {
   "cell_type": "code",
   "execution_count": 4,
   "metadata": {},
   "outputs": [
    {
     "name": "stdout",
     "output_type": "stream",
     "text": [
      "Requirement already satisfied: papermill in c:\\users\\user\\anaconda3\\lib\\site-packages (2.5.0)\n",
      "Requirement already satisfied: click in c:\\users\\user\\anaconda3\\lib\\site-packages (from papermill) (8.1.7)\n",
      "Requirement already satisfied: pyyaml in c:\\users\\user\\anaconda3\\lib\\site-packages (from papermill) (6.0.1)\n",
      "Requirement already satisfied: nbformat>=5.1.2 in c:\\users\\user\\anaconda3\\lib\\site-packages (from papermill) (5.9.2)\n",
      "Requirement already satisfied: nbclient>=0.2.0 in c:\\users\\user\\anaconda3\\lib\\site-packages (from papermill) (0.8.0)\n",
      "Requirement already satisfied: tqdm>=4.32.2 in c:\\users\\user\\anaconda3\\lib\\site-packages (from papermill) (4.65.0)\n",
      "Requirement already satisfied: requests in c:\\users\\user\\anaconda3\\lib\\site-packages (from papermill) (2.31.0)\n",
      "Requirement already satisfied: entrypoints in c:\\users\\user\\anaconda3\\lib\\site-packages (from papermill) (0.4)\n",
      "Requirement already satisfied: tenacity>=5.0.2 in c:\\users\\user\\anaconda3\\lib\\site-packages (from papermill) (8.2.2)\n",
      "Requirement already satisfied: jupyter-client>=6.1.12 in c:\\users\\user\\appdata\\roaming\\python\\python311\\site-packages (from nbclient>=0.2.0->papermill) (8.3.1)\n",
      "Requirement already satisfied: jupyter-core!=5.0.*,>=4.12 in c:\\users\\user\\appdata\\roaming\\python\\python311\\site-packages (from nbclient>=0.2.0->papermill) (5.3.2)\n",
      "Requirement already satisfied: traitlets>=5.4 in c:\\users\\user\\appdata\\roaming\\python\\python311\\site-packages (from nbclient>=0.2.0->papermill) (5.10.1)\n",
      "Requirement already satisfied: fastjsonschema in c:\\users\\user\\anaconda3\\lib\\site-packages (from nbformat>=5.1.2->papermill) (2.16.2)\n",
      "Requirement already satisfied: jsonschema>=2.6 in c:\\users\\user\\anaconda3\\lib\\site-packages (from nbformat>=5.1.2->papermill) (4.19.2)\n",
      "Requirement already satisfied: colorama in c:\\users\\user\\appdata\\roaming\\python\\python311\\site-packages (from tqdm>=4.32.2->papermill) (0.4.6)\n",
      "Requirement already satisfied: charset-normalizer<4,>=2 in c:\\users\\user\\anaconda3\\lib\\site-packages (from requests->papermill) (2.0.4)\n",
      "Requirement already satisfied: idna<4,>=2.5 in c:\\users\\user\\anaconda3\\lib\\site-packages (from requests->papermill) (3.4)\n",
      "Requirement already satisfied: urllib3<3,>=1.21.1 in c:\\users\\user\\anaconda3\\lib\\site-packages (from requests->papermill) (1.26.18)\n",
      "Requirement already satisfied: certifi>=2017.4.17 in c:\\users\\user\\anaconda3\\lib\\site-packages (from requests->papermill) (2023.11.17)\n",
      "Requirement already satisfied: attrs>=22.2.0 in c:\\users\\user\\anaconda3\\lib\\site-packages (from jsonschema>=2.6->nbformat>=5.1.2->papermill) (23.1.0)\n",
      "Requirement already satisfied: jsonschema-specifications>=2023.03.6 in c:\\users\\user\\anaconda3\\lib\\site-packages (from jsonschema>=2.6->nbformat>=5.1.2->papermill) (2023.7.1)\n",
      "Requirement already satisfied: referencing>=0.28.4 in c:\\users\\user\\anaconda3\\lib\\site-packages (from jsonschema>=2.6->nbformat>=5.1.2->papermill) (0.30.2)\n",
      "Requirement already satisfied: rpds-py>=0.7.1 in c:\\users\\user\\anaconda3\\lib\\site-packages (from jsonschema>=2.6->nbformat>=5.1.2->papermill) (0.10.6)\n",
      "Requirement already satisfied: python-dateutil>=2.8.2 in c:\\users\\user\\appdata\\roaming\\python\\python311\\site-packages (from jupyter-client>=6.1.12->nbclient>=0.2.0->papermill) (2.8.2)\n",
      "Requirement already satisfied: pyzmq>=23.0 in c:\\users\\user\\appdata\\roaming\\python\\python311\\site-packages (from jupyter-client>=6.1.12->nbclient>=0.2.0->papermill) (25.1.1)\n",
      "Requirement already satisfied: tornado>=6.2 in c:\\users\\user\\appdata\\roaming\\python\\python311\\site-packages (from jupyter-client>=6.1.12->nbclient>=0.2.0->papermill) (6.3.3)\n",
      "Requirement already satisfied: platformdirs>=2.5 in c:\\users\\user\\appdata\\roaming\\python\\python311\\site-packages (from jupyter-core!=5.0.*,>=4.12->nbclient>=0.2.0->papermill) (3.10.0)\n",
      "Requirement already satisfied: pywin32>=300 in c:\\users\\user\\appdata\\roaming\\python\\python311\\site-packages (from jupyter-core!=5.0.*,>=4.12->nbclient>=0.2.0->papermill) (306)\n",
      "Requirement already satisfied: six>=1.5 in c:\\users\\user\\appdata\\roaming\\python\\python311\\site-packages (from python-dateutil>=2.8.2->jupyter-client>=6.1.12->nbclient>=0.2.0->papermill) (1.16.0)\n",
      "Note: you may need to restart the kernel to use updated packages.\n"
     ]
    }
   ],
   "source": [
    "%pip install papermill"
   ]
  },
  {
   "cell_type": "code",
   "execution_count": 5,
   "metadata": {},
   "outputs": [],
   "source": [
    "import papermill as pm"
   ]
  },
  {
   "cell_type": "code",
   "execution_count": 6,
   "metadata": {},
   "outputs": [
    {
     "data": {
      "application/vnd.jupyter.widget-view+json": {
       "model_id": "577b066aa2ec477a90de84bccf3775d8",
       "version_major": 2,
       "version_minor": 0
      },
      "text/plain": [
       "Executing:   0%|          | 0/23 [00:00<?, ?cell/s]"
      ]
     },
     "metadata": {},
     "output_type": "display_data"
    },
    {
     "data": {
      "application/vnd.jupyter.widget-view+json": {
       "model_id": "a9c5fa2b65a24e708c86cb82eecc056b",
       "version_major": 2,
       "version_minor": 0
      },
      "text/plain": [
       "Executing:   0%|          | 0/23 [00:00<?, ?cell/s]"
      ]
     },
     "metadata": {},
     "output_type": "display_data"
    },
    {
     "data": {
      "application/vnd.jupyter.widget-view+json": {
       "model_id": "f2c79cbb463344aa84a7a2e8f8c02851",
       "version_major": 2,
       "version_minor": 0
      },
      "text/plain": [
       "Executing:   0%|          | 0/23 [00:00<?, ?cell/s]"
      ]
     },
     "metadata": {},
     "output_type": "display_data"
    },
    {
     "data": {
      "application/vnd.jupyter.widget-view+json": {
       "model_id": "3657a0ce539449e8ad632850dc4b3681",
       "version_major": 2,
       "version_minor": 0
      },
      "text/plain": [
       "Executing:   0%|          | 0/23 [00:00<?, ?cell/s]"
      ]
     },
     "metadata": {},
     "output_type": "display_data"
    },
    {
     "data": {
      "application/vnd.jupyter.widget-view+json": {
       "model_id": "6fc74206cb1a4c1598682c2f149a37f8",
       "version_major": 2,
       "version_minor": 0
      },
      "text/plain": [
       "Executing:   0%|          | 0/23 [00:00<?, ?cell/s]"
      ]
     },
     "metadata": {},
     "output_type": "display_data"
    },
    {
     "data": {
      "application/vnd.jupyter.widget-view+json": {
       "model_id": "0940f7d05bc54d71b95c04b1ca94c649",
       "version_major": 2,
       "version_minor": 0
      },
      "text/plain": [
       "Executing:   0%|          | 0/23 [00:00<?, ?cell/s]"
      ]
     },
     "metadata": {},
     "output_type": "display_data"
    },
    {
     "data": {
      "application/vnd.jupyter.widget-view+json": {
       "model_id": "473e5461c20f4a33b3c03afef79ab709",
       "version_major": 2,
       "version_minor": 0
      },
      "text/plain": [
       "Executing:   0%|          | 0/23 [00:00<?, ?cell/s]"
      ]
     },
     "metadata": {},
     "output_type": "display_data"
    },
    {
     "data": {
      "application/vnd.jupyter.widget-view+json": {
       "model_id": "11df5bdec6064f6782ba95a8a357bd20",
       "version_major": 2,
       "version_minor": 0
      },
      "text/plain": [
       "Executing:   0%|          | 0/23 [00:00<?, ?cell/s]"
      ]
     },
     "metadata": {},
     "output_type": "display_data"
    },
    {
     "data": {
      "application/vnd.jupyter.widget-view+json": {
       "model_id": "52074fa89bb3492ab2156bbc8e1a248e",
       "version_major": 2,
       "version_minor": 0
      },
      "text/plain": [
       "Executing:   0%|          | 0/23 [00:00<?, ?cell/s]"
      ]
     },
     "metadata": {},
     "output_type": "display_data"
    },
    {
     "data": {
      "application/vnd.jupyter.widget-view+json": {
       "model_id": "7d5524e76ec54c8ba881792a9966d688",
       "version_major": 2,
       "version_minor": 0
      },
      "text/plain": [
       "Executing:   0%|          | 0/23 [00:00<?, ?cell/s]"
      ]
     },
     "metadata": {},
     "output_type": "display_data"
    },
    {
     "data": {
      "application/vnd.jupyter.widget-view+json": {
       "model_id": "6391d3ef91c44d0c94136523022671ed",
       "version_major": 2,
       "version_minor": 0
      },
      "text/plain": [
       "Executing:   0%|          | 0/23 [00:00<?, ?cell/s]"
      ]
     },
     "metadata": {},
     "output_type": "display_data"
    },
    {
     "data": {
      "application/vnd.jupyter.widget-view+json": {
       "model_id": "7c43c56164eb4def98aabbd27559dffd",
       "version_major": 2,
       "version_minor": 0
      },
      "text/plain": [
       "Executing:   0%|          | 0/23 [00:00<?, ?cell/s]"
      ]
     },
     "metadata": {},
     "output_type": "display_data"
    },
    {
     "data": {
      "application/vnd.jupyter.widget-view+json": {
       "model_id": "f59ac3fc9cf14edd82817af6b8a9a61e",
       "version_major": 2,
       "version_minor": 0
      },
      "text/plain": [
       "Executing:   0%|          | 0/23 [00:00<?, ?cell/s]"
      ]
     },
     "metadata": {},
     "output_type": "display_data"
    },
    {
     "data": {
      "application/vnd.jupyter.widget-view+json": {
       "model_id": "8d7cbc18770f450083680760ddb28a74",
       "version_major": 2,
       "version_minor": 0
      },
      "text/plain": [
       "Executing:   0%|          | 0/23 [00:00<?, ?cell/s]"
      ]
     },
     "metadata": {},
     "output_type": "display_data"
    },
    {
     "data": {
      "application/vnd.jupyter.widget-view+json": {
       "model_id": "2abb9760a12943aaa6b6609eb5aec87f",
       "version_major": 2,
       "version_minor": 0
      },
      "text/plain": [
       "Executing:   0%|          | 0/23 [00:00<?, ?cell/s]"
      ]
     },
     "metadata": {},
     "output_type": "display_data"
    },
    {
     "data": {
      "application/vnd.jupyter.widget-view+json": {
       "model_id": "11578b0ad45b4b16b2edb6acbef55d84",
       "version_major": 2,
       "version_minor": 0
      },
      "text/plain": [
       "Executing:   0%|          | 0/23 [00:00<?, ?cell/s]"
      ]
     },
     "metadata": {},
     "output_type": "display_data"
    },
    {
     "data": {
      "application/vnd.jupyter.widget-view+json": {
       "model_id": "f36bffef57d64771a08015b371bf7158",
       "version_major": 2,
       "version_minor": 0
      },
      "text/plain": [
       "Executing:   0%|          | 0/23 [00:00<?, ?cell/s]"
      ]
     },
     "metadata": {},
     "output_type": "display_data"
    },
    {
     "data": {
      "application/vnd.jupyter.widget-view+json": {
       "model_id": "ffc007e964624c3dbcb86f9d10fc2506",
       "version_major": 2,
       "version_minor": 0
      },
      "text/plain": [
       "Executing:   0%|          | 0/23 [00:00<?, ?cell/s]"
      ]
     },
     "metadata": {},
     "output_type": "display_data"
    },
    {
     "data": {
      "application/vnd.jupyter.widget-view+json": {
       "model_id": "c52427dce0474c00a80af1ab7f8e8a4b",
       "version_major": 2,
       "version_minor": 0
      },
      "text/plain": [
       "Executing:   0%|          | 0/23 [00:00<?, ?cell/s]"
      ]
     },
     "metadata": {},
     "output_type": "display_data"
    },
    {
     "data": {
      "application/vnd.jupyter.widget-view+json": {
       "model_id": "f1dff1be89ad4e46a96e9aca0eefac5a",
       "version_major": 2,
       "version_minor": 0
      },
      "text/plain": [
       "Executing:   0%|          | 0/23 [00:00<?, ?cell/s]"
      ]
     },
     "metadata": {},
     "output_type": "display_data"
    }
   ],
   "source": [
    "categories = ['crime', 'health', 'politics', 'science', 'social_media']\n",
    "dataset_pair = {'crime':2, 'health':3, 'politics':0, 'science':0, 'social_media':3}\n",
    "categories = ['social_media']\n",
    "epochs = [4,5,6,7]\n",
    "rate = [0.00001, 0.0003, 0.0001, 0.00005, 0.00003]\n",
    "# dataset_pair = {'crime':2, 'health':3, 'politics':0, 'science':0, 'social_media':3}\n",
    "# Iterate through each category\n",
    "def run_iter(iterations, epoch, learning_rate=None, batch_size=None):\n",
    "  for i in range(iterations):\n",
    "    for category in categories:\n",
    "      # Iterate over select_model from 0 to 5\n",
    "      select_model = dataset_pair[category]\n",
    "        # Parameters for the current run\n",
    "      parameters = {\n",
    "        'freeze_layers_up_to': 0,\n",
    "        'weight_for_class_0': 0.45,\n",
    "        'weight_for_class_1': 0.55,\n",
    "        # 'learning_rate': learning_rate,\n",
    "        'min_acc': 0.8,\n",
    "        'select_model': select_model,\n",
    "        'categories': category,\n",
    "        'epochs': epoch\n",
    "      }\n",
    "\n",
    "      # Execute detection.ipynb with the given parameters\n",
    "      output_notebook_path = f'output_detection_{category}_model_{select_model}.ipynb'\n",
    "      input_notebook_path = 'detection.ipynb'\n",
    "\n",
    "      pm.execute_notebook(\n",
    "        input_notebook_path,\n",
    "        output_notebook_path,\n",
    "        parameters=parameters\n",
    "      )\n",
    "\n",
    "# for batch_size in batch:\n",
    "#   for learning_rate in rate:\n",
    "#     run_iter(5, learning_rate, batch_size)\n",
    "\n",
    "for epoch in epochs:\n",
    "  run_iter(5, epoch=epoch)"
   ]
  },
  {
   "cell_type": "markdown",
   "metadata": {},
   "source": []
  },
  {
   "cell_type": "code",
   "execution_count": null,
   "metadata": {},
   "outputs": [],
   "source": [
    "valid_categories = ['crime', 'health', 'politics', 'science', 'social_media']"
   ]
  },
  {
   "cell_type": "code",
   "execution_count": null,
   "metadata": {},
   "outputs": [],
   "source": [
    "valid_dataset_mappings = {\n",
    "  'fa-kes': '../data/crime/FA-KES-Dataset.feather',  \n",
    "  'snope': '../data/crime/snope.feather',  \n",
    "  'covid_claims': '../data/health/covid_claims.feather',  \n",
    "  'covid_fake_news': '../data/health/covid_fake_news_dataset.feather',  \n",
    "  'covid_FNIR': '../data/health/covid_FNIR.feather',  \n",
    "  'fake_news': '../data/politics/fake_news_dataset.feather',  \n",
    "  'isot_dataset': '../data/politics/isot_dataset.feather',  \n",
    "  'liar_dataset': '../data/politics/liar_dataset.feather',  \n",
    "  'pheme': '../data/politics/pheme.feather',  \n",
    "  'politifact': '../data/politics/politifact_dataset.feather',  \n",
    "  'climate': '../data/science/climate_dataset.feather',  \n",
    "  'gossipcop': '../data/social_media/gossipcop.feather',  \n",
    "  'isot_social': '../data/social_media/isot_dataset.feather',  \n",
    "  'isot_multipurpose': '../data/isot_multipurpose_small.feather'  \n",
    "}"
   ]
  },
  {
   "cell_type": "code",
   "execution_count": null,
   "metadata": {},
   "outputs": [],
   "source": [
    "def check_categories(categories):\n",
    "  try:\n",
    "    if not categories:\n",
    "      raise Exception('No categories selected')\n",
    "    if not all(category in valid_categories for category in categories):\n",
    "      raise Exception('Invalid category in categories list')\n",
    "    print('Categories check passed')\n",
    "  except Exception as e:\n",
    "    print(e)\n",
    "    raise SystemExit"
   ]
  },
  {
   "cell_type": "code",
   "execution_count": null,
   "metadata": {},
   "outputs": [],
   "source": [
    "def check_train_test_data(train_data, test_data):\n",
    "    try:\n",
    "        if train_data is None and test_data is None:\n",
    "            print(\"Train and test data check passed\")\n",
    "            return\n",
    "            \n",
    "        if train_data is None and test_data is not None or train_data is not None and test_data is None:\n",
    "            raise Exception(\"Train and test data must be either both None or both not None\")\n",
    "        elif not isinstance(train_data, list) or not isinstance(test_data, list):\n",
    "            raise Exception(\"Train and test data must be in lists\")\n",
    "        elif (\n",
    "                not all(entry in valid_dataset_mappings for entry in train_data) or\n",
    "                not all(entry in valid_dataset_mappings for entry in test_data)\n",
    "            ):\n",
    "            raise Exception(\"Invalid dataset mapping in train or test list\")\n",
    "        print(\"Train and test data check passed\")\n",
    "    except Exception as e:\n",
    "        print(\"Invalid train and test data mappings\")\n",
    "        raise SystemExit\n"
   ]
  },
  {
   "cell_type": "code",
   "execution_count": null,
   "metadata": {},
   "outputs": [],
   "source": [
    "def check_weights(weight0, weight1):\n",
    "    try:\n",
    "      if weight0 is None and weight1 is not None or weight0 is not None and weight1 is None:\n",
    "        raise Exception('Weights must be both set to None (or both floats)')\n",
    "      elif weight0 == 'auto' and weight1 != 'auto' or weight0 != 'auto' and weight1 == 'auto':\n",
    "        raise Exception('Weights must be both set to auto (or both floats)')\n",
    "      elif isinstance(weight0, float) and isinstance(weight1, float):\n",
    "        weight0, weight1 = float(weight0), float(weight1)\n",
    "      print('Weights check passed')\n",
    "    except Exception as e:\n",
    "      print(e)\n",
    "      raise SystemExit"
   ]
  },
  {
   "cell_type": "code",
   "execution_count": null,
   "metadata": {},
   "outputs": [],
   "source": [
    "def check_other_params(num_freeze_layers, num_epochs, learn_rate, min_accuracy):\n",
    "  try:\n",
    "    if num_freeze_layers < 0:\n",
    "      raise Exception('Number of freeze layers must be a positive integer')\n",
    "    if num_epochs < 1:\n",
    "      raise Exception('Number of epochs must be a positive integer greater than 0')\n",
    "    if learn_rate < 0 or learn_rate > 1:\n",
    "      raise Exception('Learning rate must be a float between 0 and 1')\n",
    "    if min_accuracy < 0 or min_accuracy > 1:\n",
    "      raise Exception('Minimum accuracy must be a float between 0 and 1')\n",
    "    print('Other params check passed')\n",
    "  except Exception as e:\n",
    "    print(e)\n",
    "    raise SystemExit\n"
   ]
  },
  {
   "cell_type": "markdown",
   "metadata": {},
   "source": [
    "### Set all parameters below"
   ]
  },
  {
   "cell_type": "code",
   "execution_count": null,
   "metadata": {},
   "outputs": [],
   "source": [
    "# Set the category\n",
    "# The value for categories will be where the log file is saved\n",
    "#categories = ['crime', 'health', 'politics', 'science', 'social_media']\n",
    "categories = ['politics', 'health']\n",
    "\n",
    "# Set the train and test data, or set to None if using entire category merged dataset\n",
    "# Valid values for train_data and test_data are the keys in valid_dataset_mappings, or None\n",
    "train_data, test_data = None, None \n",
    "\n",
    "# Set the weights for the classes\n",
    "# Will be either 'auto', None, or floats\n",
    "weight0, weight1 = 'auto', 'auto'\n",
    "\n",
    "# Set the number of layers to freeze in the model\n",
    "# Must be a positive integer\n",
    "num_freeze_layers = 0\n",
    "\n",
    "# Set the number of epochs to train the model\n",
    "# Must be a positive integer greater than 0\n",
    "num_epochs = 1\n",
    "\n",
    "# Set the learning rate for the model\n",
    "# Must be a float between 0 and 1\n",
    "learn_rate = 0.00001\n",
    "\n",
    "# Set the minimum accuracy for the model\n",
    "# Must be a float between 0 and 1\n",
    "min_accuracy = 0.5"
   ]
  },
  {
   "cell_type": "code",
   "execution_count": null,
   "metadata": {},
   "outputs": [],
   "source": [
    "# Check categories\n",
    "check_categories(categories)"
   ]
  },
  {
   "cell_type": "code",
   "execution_count": null,
   "metadata": {},
   "outputs": [],
   "source": [
    "# Check train and test data\n",
    "check_train_test_data(train_data, test_data)"
   ]
  },
  {
   "cell_type": "code",
   "execution_count": null,
   "metadata": {},
   "outputs": [],
   "source": [
    "# Check weights\n",
    "check_weights(weight0, weight1)"
   ]
  },
  {
   "cell_type": "code",
   "execution_count": null,
   "metadata": {},
   "outputs": [],
   "source": [
    "check_other_params(num_freeze_layers, num_epochs, learn_rate, min_accuracy)"
   ]
  },
  {
   "cell_type": "code",
   "execution_count": null,
   "metadata": {},
   "outputs": [],
   "source": [
    "# Iterate through each category\n",
    "for category in categories:\n",
    "  # Iterate over select_model from 0 to 5\n",
    "  for select_model in range(6):\n",
    "    # Parameters for the current run\n",
    "    parameters = {\n",
    "      'freeze_layers_up_to': num_freeze_layers,\n",
    "      'epochs': num_epochs,\n",
    "      'weight_for_class_0': weight0,\n",
    "      'weight_for_class_1': weight1,\n",
    "      'learning_rate': learn_rate,\n",
    "      'min_acc': min_accuracy,\n",
    "      'select_model': select_model,\n",
    "      'categories': category,\n",
    "      'train_data': train_data,\n",
    "      'test_data': test_data\n",
    "    }\n",
    "\n",
    "    # Execute detection.ipynb with the given parameters\n",
    "    output_notebook_path = f'output_detection.ipynb'\n",
    "    input_notebook_path = 'detection.ipynb'\n",
    "\n",
    "    pm.execute_notebook(\n",
    "      input_notebook_path,\n",
    "      output_notebook_path,\n",
    "      parameters=parameters\n",
    "    )"
   ]
  }
 ],
 "metadata": {
  "kernelspec": {
   "display_name": "Python 3",
   "language": "python",
   "name": "python3"
  },
  "language_info": {
   "codemirror_mode": {
    "name": "ipython",
    "version": 3
   },
   "file_extension": ".py",
   "mimetype": "text/x-python",
   "name": "python",
   "nbconvert_exporter": "python",
   "pygments_lexer": "ipython3",
   "version": "3.11.5"
  }
 },
 "nbformat": 4,
 "nbformat_minor": 2
}
