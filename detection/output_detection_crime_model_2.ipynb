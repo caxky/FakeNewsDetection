{
 "cells": [
  {
   "cell_type": "code",
   "execution_count": 1,
   "id": "be61b821",
   "metadata": {
    "execution": {
     "iopub.execute_input": "2023-12-21T17:07:35.609477Z",
     "iopub.status.busy": "2023-12-21T17:07:35.609477Z",
     "iopub.status.idle": "2023-12-21T17:07:41.133894Z",
     "shell.execute_reply": "2023-12-21T17:07:41.133894Z"
    },
    "papermill": {
     "duration": 5.529401,
     "end_time": "2023-12-21T17:07:41.134898",
     "exception": false,
     "start_time": "2023-12-21T17:07:35.605497",
     "status": "completed"
    },
    "tags": []
   },
   "outputs": [
    {
     "name": "stdout",
     "output_type": "stream",
     "text": [
      "Requirement already satisfied: numpy in c:\\users\\user\\anaconda3\\lib\\site-packages (1.26.2)\n",
      "Requirement already satisfied: transformers in c:\\users\\user\\anaconda3\\lib\\site-packages (4.32.1)\n",
      "Requirement already satisfied: pandas in c:\\users\\user\\anaconda3\\lib\\site-packages (2.1.4)\n",
      "Requirement already satisfied: torch in c:\\users\\user\\anaconda3\\lib\\site-packages (2.1.1)\n",
      "Requirement already satisfied: scikit-learn in c:\\users\\user\\anaconda3\\lib\\site-packages (1.2.2)\n",
      "Requirement already satisfied: pyarrow in c:\\users\\user\\anaconda3\\lib\\site-packages (11.0.0)\n",
      "Requirement already satisfied: accelerate in c:\\users\\user\\anaconda3\\lib\\site-packages (0.25.0)\n",
      "Requirement already satisfied: ipywidgets in c:\\users\\user\\anaconda3\\lib\\site-packages (8.0.4)\n",
      "Requirement already satisfied: tqdm in c:\\users\\user\\anaconda3\\lib\\site-packages (4.65.0)\n",
      "Requirement already satisfied: datetime in c:\\users\\user\\anaconda3\\lib\\site-packages (5.3)\n",
      "Requirement already satisfied: imblearn in c:\\users\\user\\anaconda3\\lib\\site-packages (0.0)\n",
      "Requirement already satisfied: sentencepiece in c:\\users\\user\\anaconda3\\lib\\site-packages (0.1.99)\n",
      "Requirement already satisfied: papermill in c:\\users\\user\\anaconda3\\lib\\site-packages (2.5.0)\n",
      "Requirement already satisfied: filelock in c:\\users\\user\\anaconda3\\lib\\site-packages (from transformers) (3.13.1)\n",
      "Requirement already satisfied: huggingface-hub<1.0,>=0.15.1 in c:\\users\\user\\anaconda3\\lib\\site-packages (from transformers) (0.17.3)\n",
      "Requirement already satisfied: packaging>=20.0 in c:\\users\\user\\appdata\\roaming\\python\\python311\\site-packages (from transformers) (23.2)\n",
      "Requirement already satisfied: pyyaml>=5.1 in c:\\users\\user\\anaconda3\\lib\\site-packages (from transformers) (6.0.1)\n",
      "Requirement already satisfied: regex!=2019.12.17 in c:\\users\\user\\anaconda3\\lib\\site-packages (from transformers) (2023.10.3)\n",
      "Requirement already satisfied: requests in c:\\users\\user\\anaconda3\\lib\\site-packages (from transformers) (2.31.0)\n",
      "Requirement already satisfied: tokenizers!=0.11.3,<0.14,>=0.11.1 in c:\\users\\user\\anaconda3\\lib\\site-packages (from transformers) (0.13.3)\n",
      "Requirement already satisfied: safetensors>=0.3.1 in c:\\users\\user\\anaconda3\\lib\\site-packages (from transformers) (0.4.0)\n",
      "Requirement already satisfied: python-dateutil>=2.8.2 in c:\\users\\user\\appdata\\roaming\\python\\python311\\site-packages (from pandas) (2.8.2)\n",
      "Requirement already satisfied: pytz>=2020.1 in c:\\users\\user\\anaconda3\\lib\\site-packages (from pandas) (2023.3.post1)\n",
      "Requirement already satisfied: tzdata>=2022.1 in c:\\users\\user\\anaconda3\\lib\\site-packages (from pandas) (2023.3)\n",
      "Requirement already satisfied: typing-extensions in c:\\users\\user\\anaconda3\\lib\\site-packages (from torch) (4.9.0)\n",
      "Requirement already satisfied: sympy in c:\\users\\user\\anaconda3\\lib\\site-packages (from torch) (1.12)\n",
      "Requirement already satisfied: networkx in c:\\users\\user\\anaconda3\\lib\\site-packages (from torch) (3.2.1)\n",
      "Requirement already satisfied: jinja2 in c:\\users\\user\\anaconda3\\lib\\site-packages (from torch) (3.1.2)\n",
      "Requirement already satisfied: fsspec in c:\\users\\user\\anaconda3\\lib\\site-packages (from torch) (2023.12.2)\n",
      "Requirement already satisfied: scipy>=1.3.2 in c:\\users\\user\\anaconda3\\lib\\site-packages (from scikit-learn) (1.11.4)\n",
      "Requirement already satisfied: joblib>=1.1.1 in c:\\users\\user\\anaconda3\\lib\\site-packages (from scikit-learn) (1.2.0)\n",
      "Requirement already satisfied: threadpoolctl>=2.0.0 in c:\\users\\user\\anaconda3\\lib\\site-packages (from scikit-learn) (2.2.0)\n",
      "Requirement already satisfied: psutil in c:\\users\\user\\appdata\\roaming\\python\\python311\\site-packages (from accelerate) (5.9.5)\n",
      "Requirement already satisfied: protobuf in c:\\users\\user\\anaconda3\\lib\\site-packages (from transformers) (4.25.1)\n",
      "Requirement already satisfied: ipykernel>=4.5.1 in c:\\users\\user\\appdata\\roaming\\python\\python311\\site-packages (from ipywidgets) (6.25.2)\n",
      "Requirement already satisfied: ipython>=6.1.0 in c:\\users\\user\\appdata\\roaming\\python\\python311\\site-packages (from ipywidgets) (8.16.0)\n",
      "Requirement already satisfied: traitlets>=4.3.1 in c:\\users\\user\\appdata\\roaming\\python\\python311\\site-packages (from ipywidgets) (5.10.1)\n",
      "Requirement already satisfied: widgetsnbextension~=4.0 in c:\\users\\user\\anaconda3\\lib\\site-packages (from ipywidgets) (4.0.5)\n",
      "Requirement already satisfied: jupyterlab-widgets~=3.0 in c:\\users\\user\\anaconda3\\lib\\site-packages (from ipywidgets) (3.0.9)\n",
      "Requirement already satisfied: colorama in c:\\users\\user\\appdata\\roaming\\python\\python311\\site-packages (from tqdm) (0.4.6)\n",
      "Requirement already satisfied: zope.interface in c:\\users\\user\\anaconda3\\lib\\site-packages (from datetime) (5.4.0)\n",
      "Requirement already satisfied: imbalanced-learn in c:\\users\\user\\anaconda3\\lib\\site-packages (from imblearn) (0.11.0)\n",
      "Requirement already satisfied: click in c:\\users\\user\\anaconda3\\lib\\site-packages (from papermill) (8.1.7)\n",
      "Requirement already satisfied: nbformat>=5.1.2 in c:\\users\\user\\anaconda3\\lib\\site-packages (from papermill) (5.9.2)\n",
      "Requirement already satisfied: nbclient>=0.2.0 in c:\\users\\user\\anaconda3\\lib\\site-packages (from papermill) (0.8.0)\n",
      "Requirement already satisfied: entrypoints in c:\\users\\user\\anaconda3\\lib\\site-packages (from papermill) (0.4)\n",
      "Requirement already satisfied: tenacity>=5.0.2 in c:\\users\\user\\anaconda3\\lib\\site-packages (from papermill) (8.2.2)\n",
      "Requirement already satisfied: comm>=0.1.1 in c:\\users\\user\\appdata\\roaming\\python\\python311\\site-packages (from ipykernel>=4.5.1->ipywidgets) (0.1.4)\n",
      "Requirement already satisfied: debugpy>=1.6.5 in c:\\users\\user\\appdata\\roaming\\python\\python311\\site-packages (from ipykernel>=4.5.1->ipywidgets) (1.8.0)\n",
      "Requirement already satisfied: jupyter-client>=6.1.12 in c:\\users\\user\\appdata\\roaming\\python\\python311\\site-packages (from ipykernel>=4.5.1->ipywidgets) (8.3.1)\n",
      "Requirement already satisfied: jupyter-core!=5.0.*,>=4.12 in c:\\users\\user\\appdata\\roaming\\python\\python311\\site-packages (from ipykernel>=4.5.1->ipywidgets) (5.3.2)\n",
      "Requirement already satisfied: matplotlib-inline>=0.1 in c:\\users\\user\\appdata\\roaming\\python\\python311\\site-packages (from ipykernel>=4.5.1->ipywidgets) (0.1.6)\n",
      "Requirement already satisfied: nest-asyncio in c:\\users\\user\\appdata\\roaming\\python\\python311\\site-packages (from ipykernel>=4.5.1->ipywidgets) (1.5.8)\n",
      "Requirement already satisfied: pyzmq>=20 in c:\\users\\user\\appdata\\roaming\\python\\python311\\site-packages (from ipykernel>=4.5.1->ipywidgets) (25.1.1)\n",
      "Requirement already satisfied: tornado>=6.1 in c:\\users\\user\\appdata\\roaming\\python\\python311\\site-packages (from ipykernel>=4.5.1->ipywidgets) (6.3.3)\n",
      "Requirement already satisfied: backcall in c:\\users\\user\\appdata\\roaming\\python\\python311\\site-packages (from ipython>=6.1.0->ipywidgets) (0.2.0)\n",
      "Requirement already satisfied: decorator in c:\\users\\user\\appdata\\roaming\\python\\python311\\site-packages (from ipython>=6.1.0->ipywidgets) (5.1.1)\n",
      "Requirement already satisfied: jedi>=0.16 in c:\\users\\user\\appdata\\roaming\\python\\python311\\site-packages (from ipython>=6.1.0->ipywidgets) (0.19.0)\n",
      "Requirement already satisfied: pickleshare in c:\\users\\user\\appdata\\roaming\\python\\python311\\site-packages (from ipython>=6.1.0->ipywidgets) (0.7.5)\n",
      "Requirement already satisfied: prompt-toolkit!=3.0.37,<3.1.0,>=3.0.30 in c:\\users\\user\\appdata\\roaming\\python\\python311\\site-packages (from ipython>=6.1.0->ipywidgets) (3.0.39)\n",
      "Requirement already satisfied: pygments>=2.4.0 in c:\\users\\user\\appdata\\roaming\\python\\python311\\site-packages (from ipython>=6.1.0->ipywidgets) (2.16.1)\n",
      "Requirement already satisfied: stack-data in c:\\users\\user\\appdata\\roaming\\python\\python311\\site-packages (from ipython>=6.1.0->ipywidgets) (0.6.3)\n",
      "Requirement already satisfied: fastjsonschema in c:\\users\\user\\anaconda3\\lib\\site-packages (from nbformat>=5.1.2->papermill) (2.16.2)\n",
      "Requirement already satisfied: jsonschema>=2.6 in c:\\users\\user\\anaconda3\\lib\\site-packages (from nbformat>=5.1.2->papermill) (4.19.2)\n",
      "Requirement already satisfied: six>=1.5 in c:\\users\\user\\appdata\\roaming\\python\\python311\\site-packages (from python-dateutil>=2.8.2->pandas) (1.16.0)\n",
      "Requirement already satisfied: MarkupSafe>=2.0 in c:\\users\\user\\anaconda3\\lib\\site-packages (from jinja2->torch) (2.1.3)\n",
      "Requirement already satisfied: charset-normalizer<4,>=2 in c:\\users\\user\\anaconda3\\lib\\site-packages (from requests->transformers) (2.0.4)\n",
      "Requirement already satisfied: idna<4,>=2.5 in c:\\users\\user\\anaconda3\\lib\\site-packages (from requests->transformers) (3.4)\n",
      "Requirement already satisfied: urllib3<3,>=1.21.1 in c:\\users\\user\\anaconda3\\lib\\site-packages (from requests->transformers) (1.26.18)\n",
      "Requirement already satisfied: certifi>=2017.4.17 in c:\\users\\user\\anaconda3\\lib\\site-packages (from requests->transformers) (2023.11.17)\n",
      "Requirement already satisfied: mpmath>=0.19 in c:\\users\\user\\anaconda3\\lib\\site-packages (from sympy->torch) (1.3.0)\n",
      "Requirement already satisfied: setuptools in c:\\users\\user\\anaconda3\\lib\\site-packages (from zope.interface->datetime) (68.0.0)\n",
      "Requirement already satisfied: parso<0.9.0,>=0.8.3 in c:\\users\\user\\appdata\\roaming\\python\\python311\\site-packages (from jedi>=0.16->ipython>=6.1.0->ipywidgets) (0.8.3)\n",
      "Requirement already satisfied: attrs>=22.2.0 in c:\\users\\user\\anaconda3\\lib\\site-packages (from jsonschema>=2.6->nbformat>=5.1.2->papermill) (23.1.0)\n",
      "Requirement already satisfied: jsonschema-specifications>=2023.03.6 in c:\\users\\user\\anaconda3\\lib\\site-packages (from jsonschema>=2.6->nbformat>=5.1.2->papermill) (2023.7.1)\n",
      "Requirement already satisfied: referencing>=0.28.4 in c:\\users\\user\\anaconda3\\lib\\site-packages (from jsonschema>=2.6->nbformat>=5.1.2->papermill) (0.30.2)\n",
      "Requirement already satisfied: rpds-py>=0.7.1 in c:\\users\\user\\anaconda3\\lib\\site-packages (from jsonschema>=2.6->nbformat>=5.1.2->papermill) (0.10.6)\n",
      "Requirement already satisfied: platformdirs>=2.5 in c:\\users\\user\\appdata\\roaming\\python\\python311\\site-packages (from jupyter-core!=5.0.*,>=4.12->ipykernel>=4.5.1->ipywidgets) (3.10.0)\n",
      "Requirement already satisfied: pywin32>=300 in c:\\users\\user\\appdata\\roaming\\python\\python311\\site-packages (from jupyter-core!=5.0.*,>=4.12->ipykernel>=4.5.1->ipywidgets) (306)\n",
      "Requirement already satisfied: wcwidth in c:\\users\\user\\appdata\\roaming\\python\\python311\\site-packages (from prompt-toolkit!=3.0.37,<3.1.0,>=3.0.30->ipython>=6.1.0->ipywidgets) (0.2.8)\n",
      "Requirement already satisfied: executing>=1.2.0 in c:\\users\\user\\appdata\\roaming\\python\\python311\\site-packages (from stack-data->ipython>=6.1.0->ipywidgets) (2.0.0)\n",
      "Requirement already satisfied: asttokens>=2.1.0 in c:\\users\\user\\appdata\\roaming\\python\\python311\\site-packages (from stack-data->ipython>=6.1.0->ipywidgets) (2.4.0)\n",
      "Requirement already satisfied: pure-eval in c:\\users\\user\\appdata\\roaming\\python\\python311\\site-packages (from stack-data->ipython>=6.1.0->ipywidgets) (0.2.2)\n",
      "Note: you may need to restart the kernel to use updated packages.\n"
     ]
    }
   ],
   "source": [
    "%pip install numpy transformers pandas torch scikit-learn pyarrow accelerate transformers[torch] transformers[sentencepiece] ipywidgets tqdm datetime imblearn sentencepiece papermill"
   ]
  },
  {
   "cell_type": "code",
   "execution_count": 2,
   "id": "3dbdc4ff",
   "metadata": {
    "execution": {
     "iopub.execute_input": "2023-12-21T17:07:41.143899Z",
     "iopub.status.busy": "2023-12-21T17:07:41.142898Z",
     "iopub.status.idle": "2023-12-21T17:07:45.117081Z",
     "shell.execute_reply": "2023-12-21T17:07:45.117081Z"
    },
    "papermill": {
     "duration": 3.978186,
     "end_time": "2023-12-21T17:07:45.118085",
     "exception": false,
     "start_time": "2023-12-21T17:07:41.139899",
     "status": "completed"
    },
    "tags": []
   },
   "outputs": [],
   "source": [
    "import torch\n",
    "import torch.nn as nn\n",
    "import logging\n",
    "import os\n",
    "import time\n",
    "import string\n",
    "import random\n",
    "import numpy as np\n",
    "import pandas as pd\n",
    "from transformers import BertTokenizer, BertForSequenceClassification, DistilBertTokenizer, DistilBertForSequenceClassification ,AlbertTokenizer, AlbertForSequenceClassification, RobertaTokenizer, RobertaForSequenceClassification\n",
    "from sklearn.model_selection import train_test_split\n",
    "from sklearn.metrics import precision_score, recall_score, f1_score, accuracy_score\n",
    "from torch.utils.data import DataLoader, TensorDataset\n",
    "from datetime import datetime"
   ]
  },
  {
   "cell_type": "code",
   "execution_count": null,
   "id": "df4a0bf4",
   "metadata": {
    "papermill": {
     "duration": 0.003031,
     "end_time": "2023-12-21T17:07:45.125117",
     "exception": false,
     "start_time": "2023-12-21T17:07:45.122086",
     "status": "completed"
    },
    "tags": []
   },
   "outputs": [],
   "source": []
  },
  {
   "cell_type": "code",
   "execution_count": 3,
   "id": "6139ac40",
   "metadata": {
    "execution": {
     "iopub.execute_input": "2023-12-21T17:07:45.132104Z",
     "iopub.status.busy": "2023-12-21T17:07:45.132104Z",
     "iopub.status.idle": "2023-12-21T17:07:45.136044Z",
     "shell.execute_reply": "2023-12-21T17:07:45.136044Z"
    },
    "papermill": {
     "duration": 0.008945,
     "end_time": "2023-12-21T17:07:45.137049",
     "exception": false,
     "start_time": "2023-12-21T17:07:45.128104",
     "status": "completed"
    },
    "tags": []
   },
   "outputs": [],
   "source": [
    "def train_model(model, epochs, optimizer, loss_fn, train_dataloader):\n",
    "    for epoch in range(epochs):\n",
    "        model.train()\n",
    "        model.to(device)\n",
    "        total_loss = 0\n",
    "        for batch in train_dataloader:\n",
    "            optimizer.zero_grad()\n",
    "            inputs = {'input_ids': batch[0].to(device), 'attention_mask': batch[1].to(device), 'labels': batch[2].to(device)}\n",
    "            outputs = model(**inputs)\n",
    "            loss = loss_fn(outputs.logits, inputs['labels'])\n",
    "            loss.backward()\n",
    "            optimizer.step()\n",
    "            # total_loss += loss.item()\n",
    "            total_loss += loss\n",
    "        avg_train_loss = total_loss / len(train_dataloader)\n",
    "        print(f\"Epoch {epoch+1} average train loss: {avg_train_loss}\")\n",
    "        logging.info(f\"Epoch {epoch+1} average train loss: {avg_train_loss}\")"
   ]
  },
  {
   "cell_type": "markdown",
   "id": "ddf15010",
   "metadata": {
    "papermill": {
     "duration": 0.003,
     "end_time": "2023-12-21T17:07:45.142559",
     "exception": false,
     "start_time": "2023-12-21T17:07:45.139559",
     "status": "completed"
    },
    "tags": []
   },
   "source": [
    "# Main Code\n"
   ]
  },
  {
   "cell_type": "code",
   "execution_count": 4,
   "id": "033d131f",
   "metadata": {
    "execution": {
     "iopub.execute_input": "2023-12-21T17:07:45.148560Z",
     "iopub.status.busy": "2023-12-21T17:07:45.148560Z",
     "iopub.status.idle": "2023-12-21T17:07:45.151781Z",
     "shell.execute_reply": "2023-12-21T17:07:45.151781Z"
    },
    "papermill": {
     "duration": 0.008226,
     "end_time": "2023-12-21T17:07:45.152786",
     "exception": false,
     "start_time": "2023-12-21T17:07:45.144560",
     "status": "completed"
    },
    "tags": [
     "parameters"
    ]
   },
   "outputs": [],
   "source": [
    "# Default parameters, Papermill will overwrite these\n",
    "categories = 'science'\n",
    "select_model = 0\n",
    "freeze_layers_up_to = 0\n",
    "weight_for_class_0 = 0.45\n",
    "weight_for_class_1 = 0.55\n",
    "learning_rate = 0.00001\n",
    "min_acc = 0.85\n",
    "batch_size = 8\n",
    "epochs = 4"
   ]
  },
  {
   "cell_type": "code",
   "execution_count": 5,
   "id": "5b67d067",
   "metadata": {
    "execution": {
     "iopub.execute_input": "2023-12-21T17:07:45.159787Z",
     "iopub.status.busy": "2023-12-21T17:07:45.159787Z",
     "iopub.status.idle": "2023-12-21T17:07:45.162513Z",
     "shell.execute_reply": "2023-12-21T17:07:45.162513Z"
    },
    "papermill": {
     "duration": 0.007722,
     "end_time": "2023-12-21T17:07:45.163528",
     "exception": false,
     "start_time": "2023-12-21T17:07:45.155806",
     "status": "completed"
    },
    "tags": [
     "injected-parameters"
    ]
   },
   "outputs": [],
   "source": [
    "# Parameters\n",
    "freeze_layers_up_to = 0\n",
    "weight_for_class_0 = 0.45\n",
    "weight_for_class_1 = 0.55\n",
    "min_acc = 0.8\n",
    "select_model = 2\n",
    "categories = \"crime\"\n",
    "epochs = 7\n"
   ]
  },
  {
   "cell_type": "code",
   "execution_count": 6,
   "id": "c1103f5f",
   "metadata": {
    "execution": {
     "iopub.execute_input": "2023-12-21T17:07:45.170528Z",
     "iopub.status.busy": "2023-12-21T17:07:45.170528Z",
     "iopub.status.idle": "2023-12-21T17:07:45.173276Z",
     "shell.execute_reply": "2023-12-21T17:07:45.173276Z"
    },
    "papermill": {
     "duration": 0.007738,
     "end_time": "2023-12-21T17:07:45.174292",
     "exception": false,
     "start_time": "2023-12-21T17:07:45.166554",
     "status": "completed"
    },
    "tags": []
   },
   "outputs": [],
   "source": [
    "def generate_random_string(length=10):\n",
    "    letters = string.ascii_letters + string.digits\n",
    "    return ''.join(random.choice(letters) for _ in range(length))\n",
    "\n",
    "run_id = generate_random_string()"
   ]
  },
  {
   "cell_type": "code",
   "execution_count": 7,
   "id": "790070be",
   "metadata": {
    "execution": {
     "iopub.execute_input": "2023-12-21T17:07:45.181292Z",
     "iopub.status.busy": "2023-12-21T17:07:45.181292Z",
     "iopub.status.idle": "2023-12-21T17:07:45.185200Z",
     "shell.execute_reply": "2023-12-21T17:07:45.185200Z"
    },
    "papermill": {
     "duration": 0.008879,
     "end_time": "2023-12-21T17:07:45.186206",
     "exception": false,
     "start_time": "2023-12-21T17:07:45.177327",
     "status": "completed"
    },
    "tags": []
   },
   "outputs": [],
   "source": [
    "log_dir_mapping = {\n",
    "  'crime': './results/crime',\n",
    "  'science': './results/science',\n",
    "  'health': './results/health',\n",
    "  'politics': './results/politics',\n",
    "  'social_media': './results/social_media'\n",
    "}\n",
    "\n",
    "log_dir = log_dir_mapping.get(categories, './results')\n",
    "os.makedirs(log_dir, exist_ok=True)\n",
    "\n",
    "log_filename = f'training_log_{datetime.now().strftime(\"%Y%m%d_%H%M%S\")}.log'\n",
    "log_filepath = os.path.join(log_dir, log_filename)\n",
    "\n",
    "logging.basicConfig(filename=log_filepath, filemode='w', format='%(asctime)s - %(message)s', level=logging.INFO)\n",
    "logging.info(f'\\nStarting detection model - {run_id}')"
   ]
  },
  {
   "cell_type": "code",
   "execution_count": 8,
   "id": "c5d75a39",
   "metadata": {
    "execution": {
     "iopub.execute_input": "2023-12-21T17:07:45.193206Z",
     "iopub.status.busy": "2023-12-21T17:07:45.193206Z",
     "iopub.status.idle": "2023-12-21T17:07:45.217555Z",
     "shell.execute_reply": "2023-12-21T17:07:45.217555Z"
    },
    "papermill": {
     "duration": 0.029354,
     "end_time": "2023-12-21T17:07:45.218560",
     "exception": false,
     "start_time": "2023-12-21T17:07:45.189206",
     "status": "completed"
    },
    "tags": []
   },
   "outputs": [
    {
     "name": "stdout",
     "output_type": "stream",
     "text": [
      "                                                   text  label  \\\n",
      "0     Wed 05 Apr 2017 Syria attack symptoms consiste...      1   \n",
      "1     Fri 07 Apr 2017 at 0914 Homs governor says U.S...      1   \n",
      "2     Sun 16 Apr 2017 Death toll from Aleppo bomb at...      1   \n",
      "3     Wed 19 Apr 2017 Aleppo bomb blast kills six Sy...      1   \n",
      "4     Sun 10 Jul 2016 29 Syria Rebels Dead in Fighti...      1   \n",
      "...                                                 ...    ...   \n",
      "1114  Did Seven Key Witnesses to Las Vegas Shooting ...      1   \n",
      "1115                               Australian Gun Stats      1   \n",
      "1116                               Australian Gun Stats      1   \n",
      "1117  Is a Murderous Taxi Driver Killing People in H...      1   \n",
      "1118  Is a Murderous Taxi Driver Killing People in H...      1   \n",
      "\n",
      "                                               metadata  \n",
      "0     {'date': '4/5/2017', 'label': 1, 'location': '...  \n",
      "1     {'date': '4/7/2017', 'label': 1, 'location': '...  \n",
      "2     {'date': '4/16/2017', 'label': 1, 'location': ...  \n",
      "3     {'date': '4/19/2017', 'label': 1, 'location': ...  \n",
      "4     {'date': '7/10/2016', 'label': 1, 'location': ...  \n",
      "...                                                 ...  \n",
      "1114  {'article_category_phase1': 'Politics  Crime',...  \n",
      "1115  {'article_category_phase1': 'Politics  Crime',...  \n",
      "1116  {'article_category_phase1': 'Politics  Crime',...  \n",
      "1117  {'article_category_phase1': 'Viral Phenomena  ...  \n",
      "1118  {'article_category_phase1': 'Viral Phenomena  ...  \n",
      "\n",
      "[1119 rows x 3 columns]\n"
     ]
    }
   ],
   "source": [
    "root_dir = '../data'\n",
    "\n",
    "def load_data_from_category(category):\n",
    "    files = os.listdir(os.path.join(root_dir, category))\n",
    "    dataframes = []\n",
    "    for file in files:\n",
    "        if file.endswith('.feather'):\n",
    "            df = pd.read_feather(os.path.join(root_dir, category, file))\n",
    "            dataframes.append(df)\n",
    "    return pd.concat(dataframes, ignore_index=True)\n",
    "\n",
    "# Use this one when running multiple categories\n",
    "#combined_dataframes = [load_data_from_category(category) for category in categories] \n",
    "# This one is for single category\n",
    "combined_dataframes = [load_data_from_category(categories)]\n",
    "combined_df = pd.concat(combined_dataframes, ignore_index=True)\n",
    "combined_df.dropna(inplace=True)\n",
    "print(combined_df)"
   ]
  },
  {
   "cell_type": "code",
   "execution_count": 9,
   "id": "3f2c0af4",
   "metadata": {
    "execution": {
     "iopub.execute_input": "2023-12-21T17:07:45.226599Z",
     "iopub.status.busy": "2023-12-21T17:07:45.226599Z",
     "iopub.status.idle": "2023-12-21T17:07:45.231667Z",
     "shell.execute_reply": "2023-12-21T17:07:45.231667Z"
    },
    "papermill": {
     "duration": 0.010112,
     "end_time": "2023-12-21T17:07:45.232672",
     "exception": false,
     "start_time": "2023-12-21T17:07:45.222560",
     "status": "completed"
    },
    "tags": []
   },
   "outputs": [
    {
     "data": {
      "text/plain": [
       "'\\ndef load_data_from_category(category, filenames):\\n    dataframes = []\\n    for file_name in filenames:\\n        file_path = os.path.join(root_dir, category, file_name)\\n        if os.path.exists(file_path):\\n            df = pd.read_feather(file_path)\\n            dataframes.append(df)\\n        else:\\n            print(f\"The file \\'{file_name}\\' in the \\'{category}\\' category does not exist.\")\\n    return pd.concat(dataframes, ignore_index=True)\\n\\nroot_dir = \\'../data\\'\\ncategory = \\'health\\'\\n\\n# List of filenames to include in combined_df\\n#included_filenames = [\\'isot_dataset.feather\\', \\'fake_news_dataset.feather\\', \\'pheme.feather\\', \\'liar_dataset.feather\\', \\'politifact_dataset.feather\\']\\nincluded_filenames = [\\'covid_claims.feather\\', \\'covid_fake_news_dataset.feather\\', \\'covid_FNIR.feather\\']\\ncombined_df = load_data_from_category(category, included_filenames)\\n\\n# Drop NaN values\\ncombined_df.dropna(inplace=True)\\n\\n# Print the resulting DataFrame\\nprint(combined_df)\\n'"
      ]
     },
     "execution_count": 9,
     "metadata": {},
     "output_type": "execute_result"
    }
   ],
   "source": [
    "'''\n",
    "def load_data_from_category(category, filenames):\n",
    "    dataframes = []\n",
    "    for file_name in filenames:\n",
    "        file_path = os.path.join(root_dir, category, file_name)\n",
    "        if os.path.exists(file_path):\n",
    "            df = pd.read_feather(file_path)\n",
    "            dataframes.append(df)\n",
    "        else:\n",
    "            print(f\"The file '{file_name}' in the '{category}' category does not exist.\")\n",
    "    return pd.concat(dataframes, ignore_index=True)\n",
    "\n",
    "root_dir = '../data'\n",
    "category = 'health'\n",
    "\n",
    "# List of filenames to include in combined_df\n",
    "#included_filenames = ['isot_dataset.feather', 'fake_news_dataset.feather', 'pheme.feather', 'liar_dataset.feather', 'politifact_dataset.feather']\n",
    "included_filenames = ['covid_claims.feather', 'covid_fake_news_dataset.feather', 'covid_FNIR.feather']\n",
    "combined_df = load_data_from_category(category, included_filenames)\n",
    "\n",
    "# Drop NaN values\n",
    "combined_df.dropna(inplace=True)\n",
    "\n",
    "# Print the resulting DataFrame\n",
    "print(combined_df)\n",
    "'''"
   ]
  },
  {
   "cell_type": "code",
   "execution_count": 10,
   "id": "01241267",
   "metadata": {
    "execution": {
     "iopub.execute_input": "2023-12-21T17:07:45.240181Z",
     "iopub.status.busy": "2023-12-21T17:07:45.239177Z",
     "iopub.status.idle": "2023-12-21T17:07:45.244063Z",
     "shell.execute_reply": "2023-12-21T17:07:45.244063Z"
    },
    "papermill": {
     "duration": 0.009363,
     "end_time": "2023-12-21T17:07:45.245068",
     "exception": false,
     "start_time": "2023-12-21T17:07:45.235705",
     "status": "completed"
    },
    "tags": []
   },
   "outputs": [
    {
     "name": "stdout",
     "output_type": "stream",
     "text": [
      "['Wed 05 Apr 2017 Syria attack symptoms consistent with nerve agent use WHO. Victims of a suspected chemical attack in Syria appeared to show symptoms consistent with reaction to a nerve agent the World Health Organization said on Wednesday. \"Some cases appear to show additional signs consistent with exposure to organophosphorus chemicals a category of chemicals that includes nerve agents\" WHO said in a statement putting the death toll at at least 70. The United States has said the deaths were caused by sarin nerve gas dropped by Syrian aircraft. Russia has said it believes poison gas had leaked from a rebel chemical weapons depot struck by Syrian bombs. Sarin is an organophosporus compound and a nerve agent. Chlorine and mustard gas which are also believed to have been used in the past in Syria are not. A Russian Defence Ministry spokesman did not say what agent was used in the attack but said the rebels had used the same chemical weapons in Aleppo last year. The WHO said it was likely that some kind of chemical was used in the attack because sufferers had no apparent external injuries and died from a rapid onset of similar symptoms including acute respiratory distress. It said its experts in Turkey were giving guidance to overwhelmed health workers in Idlib on the diagnosis and treatment of patients and medicines such as Atropine an antidote for some types of chemical exposure and steroids for symptomatic treatment had been sent. A U.N. Commission of Inquiry into human rights in Syria has previously said forces loyal to Syrian President Bashar al-Assad have used lethal chlorine gas on multiple occasions. Hundreds of civilians died in a sarin gas attack in Ghouta on the outskirts of Damascus in August 2013. Assads government has always denied responsibility for that attack. Syria agreed to destroy its chemical weapons in 2013 under a deal brokered by Moscow and Washington. But Russia a Syrian ally and China have repeatedly vetoed any United Nations move to sanction Assad or refer the situation in Syria to the International Criminal Court. \"These types of weapons are banned by international law because they represent an intolerable barbarism\" Peter Salama Executive Director of the WHO Health Emergencies Programme said in the WHO statement. - REUTERS'\n",
      " 'Fri 07 Apr 2017 at 0914 Homs governor says U.S. attack caused deaths but doesnt see big human losses. A U.S. missile strike on an airbase near the Syrian city of Homs on Friday caused deaths but is not believed to have resulted in \"big human casualties\" Homs Governor Talal Barazi said. Barazi said the attack served the interests of \"armed terrorist groups\" including Islamic State adding that the targeted airbase had been providing air support for army operations against Islamic State east of Palmyra. Barazi was speaking in a series of phone interviews with media on Friday. He confirmed deaths at the airbase in a phone interview with Lebanese TV station al-Mayadeen. \"I believe - God willing - that the human casualties are not big but there is material damage. We hope there are not many victims and martyrs\" he told Reuters by telephone. Speaking at dawn he said rescue and fire-fighting operations had been going on for two hours at the base. He said the attack was a form of \"support for the armed terrorist groups and it is an attempt to weaken the capabilities of the Syrian Arab Army to combat terrorism\". Speaking to Syrian state TV Barazi said \"The Syrian leadership and Syrian policy will not change. \"This targeting was not the first and I dont believe it will be the last\" he added. In separate comments to al-Mayadeen he said \"The war against terrorism will continue.\" U.S. President Donald Trump said he ordered missile strikes against an airfield from which a deadly chemical weapons attack was launched this week declaring he acted in Americas \"national security interest\" against Syrian President Bashar al-Assad. U.S. officials said the military fired dozens of cruise missiles against the base in response to the suspected gas attack in a rebel-held area that Washington has blamed on Assads forces. The Syrian government has strongly denied responsibility. The U.S. strikes \"targeted military positions in Syria and in Homs specifically\" in order to publicly \"serve the goals of terrorism in Syria and the goals of Israel in the long run\" Barazi added in his interview with state TV.-REUTERS'\n",
      " 'Sun 16 Apr 2017 Death toll from Aleppo bomb attack at least 112. The death toll from a bomb blast on a crowded Syrian bus convoy outside Aleppo reached at least 112 people the Syrian Observatory for Human Rights monitoring group said on Sunday. Syrian rescue workers the Civil Defence said that they had carted away at least 100 bodies from the site of Saturdays blast which hit buses carrying Shiite residents as they waited to cross from rebel into government territory in an evacuation deal between warring sides. The British-based Observatory said the number was expected to rise. Those killed were mostly residents of the villages of al-Foua and Kefraya in Idlib province but included rebel fighters guarding the convoy the Observatory said. There was no immediate claim of responsibility for the attack which pro-Damascus media said was carried out by a suicide car bomber. The convoy was carrying at least 5000 people including civilians and several hundred pro-government fighters who were granted safe passage out of the two Shiite villages which are besieged by rebels. Under the evacuation deal more than 2000 people including rebel fighters were granted safe passage out of Madaya a town near Damascus besieged by government forces and their allies. That convoy was waiting at a bus garage in a government-held area on Aleppos outskirts a few miles from where the attack took place. Madaya evacuees said they heard the blast. --Reuters'\n",
      " 'Wed 19 Apr 2017 Aleppo bomb blast kills six Syrian state TV. A bomb blast killed six people and injured 32 in the Salah al-Din district of Aleppo Syrian state television reported on Wednesday without giving further details. Salah al-Din is located west of Aleppos Old City in a district that was part of the last rebel enclave there until it was taken over by the Syrian army in an advance in December. --Reuters'\n",
      " 'Sun 10 Jul 2016 29 Syria Rebels Dead in Fighting for Key Aleppo Road. At least 29 Syrian rebels were killed in clashes with regime troops overnight during a failed bid to reopen the oppositions key supply route into Aleppo city a monitor said Sunday. The fighters from the Faylaq al-Sham Islamist faction and Al-Qaeda affiliate Al-Nusra Front were killed trying to reopen the Castello Road which regime forces effectively severed on Thursday the Syrian Observatory for Human Rights monitor said.--AFP']\n",
      "[1 1 1 1 1]\n",
      "Number of unique classes: 2\n",
      "Class 0: 546 instances\n",
      "Class 1: 573 instances\n"
     ]
    }
   ],
   "source": [
    "# May need to include more columns to process metadata\n",
    "texts = combined_df['text'].values\n",
    "labels = combined_df['label'].values\n",
    "num_classes = combined_df['label'].nunique()\n",
    "\n",
    "print(texts[:5])\n",
    "print(labels[:5])\n",
    "print(f\"Number of unique classes: {num_classes}\")\n",
    "\n",
    "unique_classes, class_counts = np.unique(labels, return_counts=True)\n",
    "\n",
    "for class_label, count in zip(unique_classes, class_counts):\n",
    "  print(f\"Class {class_label}: {count} instances\")\n"
   ]
  },
  {
   "cell_type": "code",
   "execution_count": 11,
   "id": "b971cfd4",
   "metadata": {
    "execution": {
     "iopub.execute_input": "2023-12-21T17:07:45.252068Z",
     "iopub.status.busy": "2023-12-21T17:07:45.252068Z",
     "iopub.status.idle": "2023-12-21T17:07:45.255657Z",
     "shell.execute_reply": "2023-12-21T17:07:45.255657Z"
    },
    "papermill": {
     "duration": 0.008592,
     "end_time": "2023-12-21T17:07:45.256662",
     "exception": false,
     "start_time": "2023-12-21T17:07:45.248070",
     "status": "completed"
    },
    "tags": []
   },
   "outputs": [],
   "source": [
    "# Split the dataset into training and testing sets\n",
    "train_texts, test_texts, train_labels, test_labels = train_test_split(texts, labels, test_size=0.2, random_state=7623)"
   ]
  },
  {
   "cell_type": "code",
   "execution_count": 12,
   "id": "3658be4d",
   "metadata": {
    "execution": {
     "iopub.execute_input": "2023-12-21T17:07:45.263661Z",
     "iopub.status.busy": "2023-12-21T17:07:45.263661Z",
     "iopub.status.idle": "2023-12-21T17:07:46.086762Z",
     "shell.execute_reply": "2023-12-21T17:07:46.086762Z"
    },
    "papermill": {
     "duration": 0.828117,
     "end_time": "2023-12-21T17:07:46.087778",
     "exception": false,
     "start_time": "2023-12-21T17:07:45.259661",
     "status": "completed"
    },
    "tags": []
   },
   "outputs": [],
   "source": [
    "# Load the pre-trained BERT (or BERT variation) model and tokenizer\n",
    "model_mapping = {\n",
    "    0: (BertTokenizer, BertForSequenceClassification, 'bert-base-uncased'),\n",
    "    1: (BertTokenizer, BertForSequenceClassification, 'bert-base-cased'),\n",
    "    2: (DistilBertTokenizer, DistilBertForSequenceClassification, 'distilbert-base-uncased-finetuned-sst-2-english'),\n",
    "    3: (DistilBertTokenizer, DistilBertForSequenceClassification, 'distilbert-base-uncased'),\n",
    "    4: (RobertaTokenizer, RobertaForSequenceClassification, 'roberta-base'),\n",
    "    5: (AlbertTokenizer, AlbertForSequenceClassification, 'albert-base-v2')\n",
    "}\n",
    "\n",
    "tokenizer_class, model_class, model_name = model_mapping.get(select_model, (None, None, None))\n",
    "\n",
    "if tokenizer_class and model_class and model_name:\n",
    "    tokenizer = tokenizer_class.from_pretrained(model_name)\n",
    "    model = model_class.from_pretrained(model_name, num_labels=2)\n",
    "else:\n",
    "    logging.error(f\"Invalid model selection: {select_model}\")"
   ]
  },
  {
   "cell_type": "code",
   "execution_count": 13,
   "id": "b8593f05",
   "metadata": {
    "execution": {
     "iopub.execute_input": "2023-12-21T17:07:46.095777Z",
     "iopub.status.busy": "2023-12-21T17:07:46.095777Z",
     "iopub.status.idle": "2023-12-21T17:07:46.099824Z",
     "shell.execute_reply": "2023-12-21T17:07:46.099824Z"
    },
    "papermill": {
     "duration": 0.009053,
     "end_time": "2023-12-21T17:07:46.100829",
     "exception": false,
     "start_time": "2023-12-21T17:07:46.091776",
     "status": "completed"
    },
    "tags": []
   },
   "outputs": [],
   "source": [
    "# Freeze the layers up to the specified layer\n",
    "if freeze_layers_up_to > 0:\n",
    "    for param in model.parameters():\n",
    "        param.requires_grad = False\n",
    "\n",
    "    if select_model == 0 or select_model == 1:\n",
    "        print(\"Layers: \"+str(len(model.bert.encoder.layer)))\n",
    "        for param in model.bert.embeddings.parameters():\n",
    "            param.requires_grad = True\n",
    "    elif select_model == 2 or select_model == 3:\n",
    "        print(\"Layers: \"+str(len(model.distilbert.transformer.layer)))\n",
    "        for param in model.distilbert.embeddings.parameters():\n",
    "            param.requires_grad = True\n",
    "    elif select_model == 4:\n",
    "        print(\"Layers: \"+str(len(model.roberta.encoder.layer)))\n",
    "        for param in model.roberta.embeddings.parameters():\n",
    "            param.requires_grad = True\n",
    "    elif select_model == 5:\n",
    "        print(\"Layers: \"+str(len(model.albert.encoder.albert_layer_groups)))\n",
    "        for param in model.albert.embeddings.parameters():\n",
    "            param.requires_grad = True\n"
   ]
  },
  {
   "cell_type": "code",
   "execution_count": 14,
   "id": "613be105",
   "metadata": {
    "execution": {
     "iopub.execute_input": "2023-12-21T17:07:46.108830Z",
     "iopub.status.busy": "2023-12-21T17:07:46.108830Z",
     "iopub.status.idle": "2023-12-21T17:07:49.092235Z",
     "shell.execute_reply": "2023-12-21T17:07:49.092235Z"
    },
    "papermill": {
     "duration": 2.989388,
     "end_time": "2023-12-21T17:07:49.094239",
     "exception": false,
     "start_time": "2023-12-21T17:07:46.104851",
     "status": "completed"
    },
    "tags": []
   },
   "outputs": [],
   "source": [
    "# Tokenize the texts\n",
    "train_encodings = tokenizer(list(train_texts), truncation=True, padding=True)\n",
    "test_encodings = tokenizer(list(test_texts), truncation=True, padding=True)"
   ]
  },
  {
   "cell_type": "code",
   "execution_count": 15,
   "id": "0e95c713",
   "metadata": {
    "execution": {
     "iopub.execute_input": "2023-12-21T17:07:49.101239Z",
     "iopub.status.busy": "2023-12-21T17:07:49.101239Z",
     "iopub.status.idle": "2023-12-21T17:07:49.207128Z",
     "shell.execute_reply": "2023-12-21T17:07:49.207128Z"
    },
    "papermill": {
     "duration": 0.110895,
     "end_time": "2023-12-21T17:07:49.208134",
     "exception": false,
     "start_time": "2023-12-21T17:07:49.097239",
     "status": "completed"
    },
    "tags": []
   },
   "outputs": [],
   "source": [
    "# Convert the encodings to PyTorch tensors\n",
    "train_inputs = torch.tensor(train_encodings['input_ids'])\n",
    "train_masks = torch.tensor(train_encodings['attention_mask'])\n",
    "train_labels = torch.tensor(train_labels)\n",
    "\n",
    "test_inputs = torch.tensor(test_encodings['input_ids'])\n",
    "test_masks = torch.tensor(test_encodings['attention_mask'])\n",
    "test_labels = torch.tensor(test_labels)\n",
    "\n",
    "# Create a DataLoader for training and testing\n",
    "train_data = TensorDataset(train_inputs, train_masks, train_labels)\n",
    "train_dataloader = DataLoader(train_data, batch_size=batch_size)\n",
    "\n",
    "test_data = TensorDataset(test_inputs, test_masks, test_labels)\n",
    "test_dataloader = DataLoader(test_data, batch_size=batch_size)"
   ]
  },
  {
   "cell_type": "code",
   "execution_count": 16,
   "id": "397d7b09",
   "metadata": {
    "execution": {
     "iopub.execute_input": "2023-12-21T17:07:49.218134Z",
     "iopub.status.busy": "2023-12-21T17:07:49.217134Z",
     "iopub.status.idle": "2023-12-21T17:07:49.221435Z",
     "shell.execute_reply": "2023-12-21T17:07:49.221435Z"
    },
    "papermill": {
     "duration": 0.010305,
     "end_time": "2023-12-21T17:07:49.223439",
     "exception": false,
     "start_time": "2023-12-21T17:07:49.213134",
     "status": "completed"
    },
    "tags": []
   },
   "outputs": [
    {
     "name": "stdout",
     "output_type": "stream",
     "text": [
      "Using device: cuda\n"
     ]
    }
   ],
   "source": [
    "# Check for GPU availability\n",
    "device = 'cuda' if torch.cuda.is_available() else 'cpu'\n",
    "print(f'Using device: {device}')"
   ]
  },
  {
   "cell_type": "code",
   "execution_count": 17,
   "id": "c6024a12",
   "metadata": {
    "execution": {
     "iopub.execute_input": "2023-12-21T17:07:49.231445Z",
     "iopub.status.busy": "2023-12-21T17:07:49.230445Z",
     "iopub.status.idle": "2023-12-21T18:10:44.639736Z",
     "shell.execute_reply": "2023-12-21T18:10:44.639736Z"
    },
    "papermill": {
     "duration": 3775.417327,
     "end_time": "2023-12-21T18:10:44.643768",
     "exception": false,
     "start_time": "2023-12-21T17:07:49.226441",
     "status": "completed"
    },
    "tags": []
   },
   "outputs": [
    {
     "name": "stdout",
     "output_type": "stream",
     "text": [
      "Epoch 1 average train loss: 0.8291658759117126\n"
     ]
    },
    {
     "name": "stdout",
     "output_type": "stream",
     "text": [
      "Epoch 2 average train loss: 0.5589548945426941\n"
     ]
    },
    {
     "name": "stdout",
     "output_type": "stream",
     "text": [
      "Epoch 3 average train loss: 0.4695984125137329\n"
     ]
    },
    {
     "name": "stdout",
     "output_type": "stream",
     "text": [
      "Epoch 4 average train loss: 0.37579140067100525\n"
     ]
    },
    {
     "name": "stdout",
     "output_type": "stream",
     "text": [
      "Epoch 5 average train loss: 0.2430909126996994\n"
     ]
    },
    {
     "name": "stdout",
     "output_type": "stream",
     "text": [
      "Epoch 6 average train loss: 0.17756526172161102\n"
     ]
    },
    {
     "name": "stdout",
     "output_type": "stream",
     "text": [
      "Epoch 7 average train loss: 0.16173973679542542\n"
     ]
    }
   ],
   "source": [
    "# Move the model and data to the GPU\n",
    "model.to(device)\n",
    "train_inputs, train_masks, train_labels = train_inputs.to(device), train_masks.to(device), train_labels.to(device)\n",
    "test_inputs, test_masks, test_labels = test_inputs.to(device), test_masks.to(device), test_labels.to(device)\n",
    "\n",
    "# Define class weights based on class imbalance\n",
    "class_weights = [weight_for_class_0, weight_for_class_1]\n",
    "\n",
    "# Define the loss function with class weights\n",
    "loss_fn = nn.CrossEntropyLoss(weight=torch.tensor(class_weights).to(device))\n",
    "\n",
    "# Define the optimizer with a learning rate\n",
    "optimizer = torch.optim.AdamW(model.parameters(), lr=learning_rate)\n",
    "\n",
    "# Fine-tune the pre-trained BERT model\n",
    "train_start_time = time.time()\n",
    "train_model(model, epochs, optimizer, loss_fn, train_dataloader)\n",
    "train_end_time = time.time()"
   ]
  },
  {
   "cell_type": "code",
   "execution_count": 18,
   "id": "73bdff49",
   "metadata": {
    "execution": {
     "iopub.execute_input": "2023-12-21T18:10:44.653866Z",
     "iopub.status.busy": "2023-12-21T18:10:44.653866Z",
     "iopub.status.idle": "2023-12-21T18:10:46.403629Z",
     "shell.execute_reply": "2023-12-21T18:10:46.403629Z"
    },
    "papermill": {
     "duration": 1.756882,
     "end_time": "2023-12-21T18:10:46.405632",
     "exception": false,
     "start_time": "2023-12-21T18:10:44.648750",
     "status": "completed"
    },
    "tags": []
   },
   "outputs": [],
   "source": [
    "# Evaluate the model\n",
    "eval_start_time = time.time()\n",
    "model.eval()\n",
    "predictions = []\n",
    "for batch in test_dataloader:\n",
    "    inputs = {'input_ids': batch[0].to(device), 'attention_mask': batch[1].to(device), 'labels': None}\n",
    "    with torch.no_grad():\n",
    "        outputs = model(**inputs)\n",
    "    logits = outputs.logits\n",
    "    predictions.extend(logits.argmax(dim=1).cpu().tolist())\n",
    "eval_end_time = time.time()"
   ]
  },
  {
   "cell_type": "code",
   "execution_count": 19,
   "id": "43112011",
   "metadata": {
    "execution": {
     "iopub.execute_input": "2023-12-21T18:10:46.414634Z",
     "iopub.status.busy": "2023-12-21T18:10:46.414634Z",
     "iopub.status.idle": "2023-12-21T18:10:46.423273Z",
     "shell.execute_reply": "2023-12-21T18:10:46.423273Z"
    },
    "papermill": {
     "duration": 0.014656,
     "end_time": "2023-12-21T18:10:46.424288",
     "exception": false,
     "start_time": "2023-12-21T18:10:46.409632",
     "status": "completed"
    },
    "tags": []
   },
   "outputs": [],
   "source": [
    "# Calculate additional metrics\n",
    "precision = precision_score(test_labels.cpu(), predictions)\n",
    "recall = recall_score(test_labels.cpu(), predictions)\n",
    "f1 = f1_score(test_labels.cpu(), predictions)\n",
    "accuracy = accuracy_score(test_labels.cpu(), predictions)\n",
    "g_mean = (recall*accuracy)**0.5"
   ]
  },
  {
   "cell_type": "code",
   "execution_count": 20,
   "id": "bda27357",
   "metadata": {
    "execution": {
     "iopub.execute_input": "2023-12-21T18:10:46.435288Z",
     "iopub.status.busy": "2023-12-21T18:10:46.435288Z",
     "iopub.status.idle": "2023-12-21T18:10:46.438851Z",
     "shell.execute_reply": "2023-12-21T18:10:46.438851Z"
    },
    "papermill": {
     "duration": 0.010608,
     "end_time": "2023-12-21T18:10:46.440896",
     "exception": false,
     "start_time": "2023-12-21T18:10:46.430288",
     "status": "completed"
    },
    "tags": []
   },
   "outputs": [],
   "source": [
    "save_dir = './models'\n",
    "os.makedirs(save_dir, exist_ok=True)\n",
    "\n",
    "saved_model_name = f\"bert_model_{run_id}.pt\"\n",
    "model_path = os.path.join(save_dir, saved_model_name)\n",
    "\n",
    "# Only save model if accuracy meets minimum threshold\n",
    "if accuracy > min_acc:\n",
    "    torch.save(model.state_dict(), model_path)"
   ]
  },
  {
   "cell_type": "code",
   "execution_count": 21,
   "id": "1b691b88",
   "metadata": {
    "execution": {
     "iopub.execute_input": "2023-12-21T18:10:46.449866Z",
     "iopub.status.busy": "2023-12-21T18:10:46.449866Z",
     "iopub.status.idle": "2023-12-21T18:10:46.455836Z",
     "shell.execute_reply": "2023-12-21T18:10:46.455836Z"
    },
    "papermill": {
     "duration": 0.012954,
     "end_time": "2023-12-21T18:10:46.456840",
     "exception": false,
     "start_time": "2023-12-21T18:10:46.443886",
     "status": "completed"
    },
    "tags": []
   },
   "outputs": [
    {
     "name": "stdout",
     "output_type": "stream",
     "text": [
      "Evaluation Results:\n",
      "Training time: 3773.95206618309 seconds\n",
      "Inference time: 1.7448527812957764 seconds\n",
      "Precision: 0.5176470588235295\n",
      "Recall: 0.4888888888888889\n",
      "F-score: 0.5028571428571429\n",
      "Accuracy: 0.6116071428571429\n",
      "G-mean: 0.5468161816441943\n",
      "Epoch: 7\n",
      "Batch size: 8\n"
     ]
    }
   ],
   "source": [
    "# Log the results\n",
    "logging.info(\"Evaluation Results\")\n",
    "logging.info(f\"Training time: {train_end_time - train_start_time} seconds\")\n",
    "logging.info(f\"Inference time: {eval_end_time - eval_start_time} seconds\")\n",
    "logging.info(f\"Precision: {precision}\")\n",
    "logging.info(f\"Recall: {recall}\")\n",
    "logging.info(f\"F-score: {f1}\")\n",
    "logging.info(f\"Accuracy: {accuracy}\")\n",
    "logging.info(f\"G-mean: {g_mean}\")\n",
    "logging.info(\"Additional Info\")\n",
    "logging.info(f\"Model name: {model_name}\")\n",
    "logging.info(f\"Datasets list: {categories}\")\n",
    "logging.info(f\"Layers frozen: {freeze_layers_up_to}\")\n",
    "logging.info(f\"Learning rate: {learning_rate}\")\n",
    "logging.info(f\"Class weights: {class_weights}\")\n",
    "if accuracy > min_acc:\n",
    "  logging.info(f\"Model saved to: {model_path}\")\n",
    "else:\n",
    "  logging.info(\"Model not saved, didn't meet minimum accuracy threshold\")\n",
    "\n",
    "# Print the evaluation results\n",
    "print(\"Evaluation Results:\")\n",
    "print(f\"Training time: {train_end_time - train_start_time} seconds\")\n",
    "print(f\"Inference time: {eval_end_time - eval_start_time} seconds\")\n",
    "print(f\"Precision: {precision}\")\n",
    "print(f\"Recall: {recall}\")\n",
    "print(f\"F-score: {f1}\")\n",
    "print(f\"Accuracy: {accuracy}\")\n",
    "print(f\"G-mean: {g_mean}\")\n",
    "print(f\"Epoch: {epochs}\")\n",
    "print(f\"Batch size: {batch_size}\")"
   ]
  }
 ],
 "metadata": {
  "kernelspec": {
   "display_name": "Python 3",
   "language": "python",
   "name": "python3"
  },
  "language_info": {
   "codemirror_mode": {
    "name": "ipython",
    "version": 3
   },
   "file_extension": ".py",
   "mimetype": "text/x-python",
   "name": "python",
   "nbconvert_exporter": "python",
   "pygments_lexer": "ipython3",
   "version": "3.11.5"
  },
  "papermill": {
   "default_parameters": {},
   "duration": 3793.500808,
   "end_time": "2023-12-21T18:10:47.795279",
   "environment_variables": {},
   "exception": null,
   "input_path": "detection.ipynb",
   "output_path": "output_detection_crime_model_2.ipynb",
   "parameters": {
    "categories": "crime",
    "epochs": 7,
    "freeze_layers_up_to": 0,
    "min_acc": 0.8,
    "select_model": 2,
    "weight_for_class_0": 0.45,
    "weight_for_class_1": 0.55
   },
   "start_time": "2023-12-21T17:07:34.294471",
   "version": "2.5.0"
  }
 },
 "nbformat": 4,
 "nbformat_minor": 5
}